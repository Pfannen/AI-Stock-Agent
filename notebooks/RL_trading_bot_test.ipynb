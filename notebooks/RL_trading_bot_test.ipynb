{
  "nbformat": 4,
  "nbformat_minor": 0,
  "metadata": {
    "colab": {
      "provenance": [],
      "toc_visible": true,
      "gpuType": "T4",
      "authorship_tag": "ABX9TyNKW7Q1VPtNV0yqOIbt92fD",
      "include_colab_link": true
    },
    "kernelspec": {
      "name": "python3",
      "display_name": "Python 3"
    },
    "language_info": {
      "name": "python"
    },
    "accelerator": "GPU"
  },
  "cells": [
    {
      "cell_type": "markdown",
      "metadata": {
        "id": "view-in-github",
        "colab_type": "text"
      },
      "source": [
        "<a href=\"https://colab.research.google.com/github/Pfannen/AI-Stock-Agent/blob/main/notebooks/RL_trading_bot_test.ipynb\" target=\"_parent\"><img src=\"https://colab.research.google.com/assets/colab-badge.svg\" alt=\"Open In Colab\"/></a>"
      ]
    },
    {
      "cell_type": "code",
      "execution_count": null,
      "metadata": {
        "id": "2HUSIpkSrOOA"
      },
      "outputs": [],
      "source": [
        "# Install data and TA dependencies\n",
        "!pip install yahoo_fin\n",
        "!pip install requests_html\n",
        "!pip install pandas-ta\n",
        "\n",
        "# Install RL dependencies\n",
        "!pip install stable-baselines3 gym-anytrading gym #gym-trading-env"
      ]
    },
    {
      "cell_type": "code",
      "source": [
        "# Standard imports\n",
        "import pandas as pd\n",
        "import numpy as np\n",
        "import torch\n",
        "from matplotlib import pyplot as plt\n",
        "from typing import List, Tuple, Callable\n",
        "import os\n",
        "from pathlib import Path\n",
        "\n",
        "# Data and TA imports\n",
        "import pandas_ta as ta\n",
        "from yahoo_fin.stock_info import get_data\n",
        "\n",
        "# RL imports\n",
        "import gymnasium as gym\n",
        "import gym_anytrading\n",
        "#import gym_trading_env\n",
        "from stable_baselines3.common.vec_env import DummyVecEnv\n",
        "from stable_baselines3.common.callbacks import EvalCallback, StopTrainingOnRewardThreshold\n",
        "from stable_baselines3 import A2C\n",
        "from gym_anytrading.envs import StocksEnv"
      ],
      "metadata": {
        "id": "wqurB8_JryGo"
      },
      "execution_count": 10,
      "outputs": []
    },
    {
      "cell_type": "code",
      "source": [
        "rl_path = Path(\"RL/\")\n",
        "model_save_path = rl_path / \"models\"\n",
        "os.makedirs(model_save_path, exist_ok=True)"
      ],
      "metadata": {
        "id": "xDw3PFvN89Ig"
      },
      "execution_count": null,
      "outputs": []
    },
    {
      "cell_type": "markdown",
      "source": [
        "# Basic code for processing data, creating model, training model, and evaluating model performance"
      ],
      "metadata": {
        "id": "bQs9LYmK5iEp"
      }
    },
    {
      "cell_type": "code",
      "source": [
        "# Getting testing data\n",
        "\n",
        "test_df = get_data(\n",
        "    ticker=\"AMZN\",\n",
        "    start_date=\"12/04/2015\",\n",
        "    end_date=\"12/04/2023\",\n",
        "    index_as_date=True,\n",
        "    interval=\"1d\"\n",
        ")\n",
        "\n",
        "len(test_df)"
      ],
      "metadata": {
        "id": "l00OZnGcxKt9",
        "colab": {
          "base_uri": "https://localhost:8080/"
        },
        "outputId": "51acdadc-2ced-4c58-eb01-138dcc80090b"
      },
      "execution_count": 3,
      "outputs": [
        {
          "output_type": "stream",
          "name": "stderr",
          "text": [
            "/usr/local/lib/python3.10/dist-packages/ipykernel/ipkernel.py:283: DeprecationWarning: `should_run_async` will not call `transform_cell` automatically in the future. Please pass the result to `transformed_cell` argument and any exception that happen during thetransform in `preprocessing_exc_tuple` in IPython 7.17 and above.\n",
            "  and should_run_async(code)\n"
          ]
        },
        {
          "output_type": "execute_result",
          "data": {
            "text/plain": [
              "1996"
            ]
          },
          "metadata": {},
          "execution_count": 3
        }
      ]
    },
    {
      "cell_type": "code",
      "source": [
        "# Create a strategy to add certain indicators to data frame\n",
        "\n",
        "TestStrategy = ta.Strategy(\n",
        "    name=\"Test Strategy\",\n",
        "    ta=[\n",
        "        {\"kind\": \"sma\", \"length\": 10},\n",
        "        {\"kind\": \"rsi\", \"length\": 10}\n",
        "    ]\n",
        ")\n",
        "\n",
        "# Use strategy on test_df\n",
        "\n",
        "test_df.ta.strategy(TestStrategy, length=10, append=True)\n",
        "\n",
        "# Clean test_df\n",
        "\n",
        "test_df.dropna(inplace=True)\n",
        "\n",
        "# See data\n",
        "\n",
        "test_df.head()"
      ],
      "metadata": {
        "colab": {
          "base_uri": "https://localhost:8080/",
          "height": 261
        },
        "id": "S0ym1WvKx55X",
        "outputId": "2771e387-b748-48df-89f3-0b074ba4d8f7"
      },
      "execution_count": 4,
      "outputs": [
        {
          "output_type": "stream",
          "name": "stderr",
          "text": [
            "/usr/local/lib/python3.10/dist-packages/ipykernel/ipkernel.py:283: DeprecationWarning: `should_run_async` will not call `transform_cell` automatically in the future. Please pass the result to `transformed_cell` argument and any exception that happen during thetransform in `preprocessing_exc_tuple` in IPython 7.17 and above.\n",
            "  and should_run_async(code)\n"
          ]
        },
        {
          "output_type": "execute_result",
          "data": {
            "text/plain": [
              "                 open       high        low      close   adjclose     volume  \\\n",
              "2015-12-18  33.432499  33.841999  33.206501  33.207001  33.207001  136826000   \n",
              "2015-12-21  33.424999  33.494999  32.946499  33.225498  33.225498   65018000   \n",
              "2015-12-22  33.341499  33.424500  32.963001  33.157501  33.157501   53356000   \n",
              "2015-12-23  33.325001  33.330002  32.831501  33.185001  33.185001   54458000   \n",
              "2015-12-24  33.167500  33.234001  33.029999  33.139500  33.139500   21824000   \n",
              "\n",
              "           ticker    SMA_10     RSI_10  \n",
              "2015-12-18   AMZN  33.20765  47.318114  \n",
              "2015-12-21   AMZN  33.18105  47.665665  \n",
              "2015-12-22   AMZN  33.11015  46.414972  \n",
              "2015-12-23   AMZN  33.10470  47.039427  \n",
              "2015-12-24   AMZN  33.10705  46.052776  "
            ],
            "text/html": [
              "\n",
              "  <div id=\"df-452c2ba7-8092-451f-8c3d-814bb2b6e276\" class=\"colab-df-container\">\n",
              "    <div>\n",
              "<style scoped>\n",
              "    .dataframe tbody tr th:only-of-type {\n",
              "        vertical-align: middle;\n",
              "    }\n",
              "\n",
              "    .dataframe tbody tr th {\n",
              "        vertical-align: top;\n",
              "    }\n",
              "\n",
              "    .dataframe thead th {\n",
              "        text-align: right;\n",
              "    }\n",
              "</style>\n",
              "<table border=\"1\" class=\"dataframe\">\n",
              "  <thead>\n",
              "    <tr style=\"text-align: right;\">\n",
              "      <th></th>\n",
              "      <th>open</th>\n",
              "      <th>high</th>\n",
              "      <th>low</th>\n",
              "      <th>close</th>\n",
              "      <th>adjclose</th>\n",
              "      <th>volume</th>\n",
              "      <th>ticker</th>\n",
              "      <th>SMA_10</th>\n",
              "      <th>RSI_10</th>\n",
              "    </tr>\n",
              "  </thead>\n",
              "  <tbody>\n",
              "    <tr>\n",
              "      <th>2015-12-18</th>\n",
              "      <td>33.432499</td>\n",
              "      <td>33.841999</td>\n",
              "      <td>33.206501</td>\n",
              "      <td>33.207001</td>\n",
              "      <td>33.207001</td>\n",
              "      <td>136826000</td>\n",
              "      <td>AMZN</td>\n",
              "      <td>33.20765</td>\n",
              "      <td>47.318114</td>\n",
              "    </tr>\n",
              "    <tr>\n",
              "      <th>2015-12-21</th>\n",
              "      <td>33.424999</td>\n",
              "      <td>33.494999</td>\n",
              "      <td>32.946499</td>\n",
              "      <td>33.225498</td>\n",
              "      <td>33.225498</td>\n",
              "      <td>65018000</td>\n",
              "      <td>AMZN</td>\n",
              "      <td>33.18105</td>\n",
              "      <td>47.665665</td>\n",
              "    </tr>\n",
              "    <tr>\n",
              "      <th>2015-12-22</th>\n",
              "      <td>33.341499</td>\n",
              "      <td>33.424500</td>\n",
              "      <td>32.963001</td>\n",
              "      <td>33.157501</td>\n",
              "      <td>33.157501</td>\n",
              "      <td>53356000</td>\n",
              "      <td>AMZN</td>\n",
              "      <td>33.11015</td>\n",
              "      <td>46.414972</td>\n",
              "    </tr>\n",
              "    <tr>\n",
              "      <th>2015-12-23</th>\n",
              "      <td>33.325001</td>\n",
              "      <td>33.330002</td>\n",
              "      <td>32.831501</td>\n",
              "      <td>33.185001</td>\n",
              "      <td>33.185001</td>\n",
              "      <td>54458000</td>\n",
              "      <td>AMZN</td>\n",
              "      <td>33.10470</td>\n",
              "      <td>47.039427</td>\n",
              "    </tr>\n",
              "    <tr>\n",
              "      <th>2015-12-24</th>\n",
              "      <td>33.167500</td>\n",
              "      <td>33.234001</td>\n",
              "      <td>33.029999</td>\n",
              "      <td>33.139500</td>\n",
              "      <td>33.139500</td>\n",
              "      <td>21824000</td>\n",
              "      <td>AMZN</td>\n",
              "      <td>33.10705</td>\n",
              "      <td>46.052776</td>\n",
              "    </tr>\n",
              "  </tbody>\n",
              "</table>\n",
              "</div>\n",
              "    <div class=\"colab-df-buttons\">\n",
              "\n",
              "  <div class=\"colab-df-container\">\n",
              "    <button class=\"colab-df-convert\" onclick=\"convertToInteractive('df-452c2ba7-8092-451f-8c3d-814bb2b6e276')\"\n",
              "            title=\"Convert this dataframe to an interactive table.\"\n",
              "            style=\"display:none;\">\n",
              "\n",
              "  <svg xmlns=\"http://www.w3.org/2000/svg\" height=\"24px\" viewBox=\"0 -960 960 960\">\n",
              "    <path d=\"M120-120v-720h720v720H120Zm60-500h600v-160H180v160Zm220 220h160v-160H400v160Zm0 220h160v-160H400v160ZM180-400h160v-160H180v160Zm440 0h160v-160H620v160ZM180-180h160v-160H180v160Zm440 0h160v-160H620v160Z\"/>\n",
              "  </svg>\n",
              "    </button>\n",
              "\n",
              "  <style>\n",
              "    .colab-df-container {\n",
              "      display:flex;\n",
              "      gap: 12px;\n",
              "    }\n",
              "\n",
              "    .colab-df-convert {\n",
              "      background-color: #E8F0FE;\n",
              "      border: none;\n",
              "      border-radius: 50%;\n",
              "      cursor: pointer;\n",
              "      display: none;\n",
              "      fill: #1967D2;\n",
              "      height: 32px;\n",
              "      padding: 0 0 0 0;\n",
              "      width: 32px;\n",
              "    }\n",
              "\n",
              "    .colab-df-convert:hover {\n",
              "      background-color: #E2EBFA;\n",
              "      box-shadow: 0px 1px 2px rgba(60, 64, 67, 0.3), 0px 1px 3px 1px rgba(60, 64, 67, 0.15);\n",
              "      fill: #174EA6;\n",
              "    }\n",
              "\n",
              "    .colab-df-buttons div {\n",
              "      margin-bottom: 4px;\n",
              "    }\n",
              "\n",
              "    [theme=dark] .colab-df-convert {\n",
              "      background-color: #3B4455;\n",
              "      fill: #D2E3FC;\n",
              "    }\n",
              "\n",
              "    [theme=dark] .colab-df-convert:hover {\n",
              "      background-color: #434B5C;\n",
              "      box-shadow: 0px 1px 3px 1px rgba(0, 0, 0, 0.15);\n",
              "      filter: drop-shadow(0px 1px 2px rgba(0, 0, 0, 0.3));\n",
              "      fill: #FFFFFF;\n",
              "    }\n",
              "  </style>\n",
              "\n",
              "    <script>\n",
              "      const buttonEl =\n",
              "        document.querySelector('#df-452c2ba7-8092-451f-8c3d-814bb2b6e276 button.colab-df-convert');\n",
              "      buttonEl.style.display =\n",
              "        google.colab.kernel.accessAllowed ? 'block' : 'none';\n",
              "\n",
              "      async function convertToInteractive(key) {\n",
              "        const element = document.querySelector('#df-452c2ba7-8092-451f-8c3d-814bb2b6e276');\n",
              "        const dataTable =\n",
              "          await google.colab.kernel.invokeFunction('convertToInteractive',\n",
              "                                                    [key], {});\n",
              "        if (!dataTable) return;\n",
              "\n",
              "        const docLinkHtml = 'Like what you see? Visit the ' +\n",
              "          '<a target=\"_blank\" href=https://colab.research.google.com/notebooks/data_table.ipynb>data table notebook</a>'\n",
              "          + ' to learn more about interactive tables.';\n",
              "        element.innerHTML = '';\n",
              "        dataTable['output_type'] = 'display_data';\n",
              "        await google.colab.output.renderOutput(dataTable, element);\n",
              "        const docLink = document.createElement('div');\n",
              "        docLink.innerHTML = docLinkHtml;\n",
              "        element.appendChild(docLink);\n",
              "      }\n",
              "    </script>\n",
              "  </div>\n",
              "\n",
              "\n",
              "<div id=\"df-d3b3f352-b6dc-40c1-aed0-cdef18a9c928\">\n",
              "  <button class=\"colab-df-quickchart\" onclick=\"quickchart('df-d3b3f352-b6dc-40c1-aed0-cdef18a9c928')\"\n",
              "            title=\"Suggest charts\"\n",
              "            style=\"display:none;\">\n",
              "\n",
              "<svg xmlns=\"http://www.w3.org/2000/svg\" height=\"24px\"viewBox=\"0 0 24 24\"\n",
              "     width=\"24px\">\n",
              "    <g>\n",
              "        <path d=\"M19 3H5c-1.1 0-2 .9-2 2v14c0 1.1.9 2 2 2h14c1.1 0 2-.9 2-2V5c0-1.1-.9-2-2-2zM9 17H7v-7h2v7zm4 0h-2V7h2v10zm4 0h-2v-4h2v4z\"/>\n",
              "    </g>\n",
              "</svg>\n",
              "  </button>\n",
              "\n",
              "<style>\n",
              "  .colab-df-quickchart {\n",
              "      --bg-color: #E8F0FE;\n",
              "      --fill-color: #1967D2;\n",
              "      --hover-bg-color: #E2EBFA;\n",
              "      --hover-fill-color: #174EA6;\n",
              "      --disabled-fill-color: #AAA;\n",
              "      --disabled-bg-color: #DDD;\n",
              "  }\n",
              "\n",
              "  [theme=dark] .colab-df-quickchart {\n",
              "      --bg-color: #3B4455;\n",
              "      --fill-color: #D2E3FC;\n",
              "      --hover-bg-color: #434B5C;\n",
              "      --hover-fill-color: #FFFFFF;\n",
              "      --disabled-bg-color: #3B4455;\n",
              "      --disabled-fill-color: #666;\n",
              "  }\n",
              "\n",
              "  .colab-df-quickchart {\n",
              "    background-color: var(--bg-color);\n",
              "    border: none;\n",
              "    border-radius: 50%;\n",
              "    cursor: pointer;\n",
              "    display: none;\n",
              "    fill: var(--fill-color);\n",
              "    height: 32px;\n",
              "    padding: 0;\n",
              "    width: 32px;\n",
              "  }\n",
              "\n",
              "  .colab-df-quickchart:hover {\n",
              "    background-color: var(--hover-bg-color);\n",
              "    box-shadow: 0 1px 2px rgba(60, 64, 67, 0.3), 0 1px 3px 1px rgba(60, 64, 67, 0.15);\n",
              "    fill: var(--button-hover-fill-color);\n",
              "  }\n",
              "\n",
              "  .colab-df-quickchart-complete:disabled,\n",
              "  .colab-df-quickchart-complete:disabled:hover {\n",
              "    background-color: var(--disabled-bg-color);\n",
              "    fill: var(--disabled-fill-color);\n",
              "    box-shadow: none;\n",
              "  }\n",
              "\n",
              "  .colab-df-spinner {\n",
              "    border: 2px solid var(--fill-color);\n",
              "    border-color: transparent;\n",
              "    border-bottom-color: var(--fill-color);\n",
              "    animation:\n",
              "      spin 1s steps(1) infinite;\n",
              "  }\n",
              "\n",
              "  @keyframes spin {\n",
              "    0% {\n",
              "      border-color: transparent;\n",
              "      border-bottom-color: var(--fill-color);\n",
              "      border-left-color: var(--fill-color);\n",
              "    }\n",
              "    20% {\n",
              "      border-color: transparent;\n",
              "      border-left-color: var(--fill-color);\n",
              "      border-top-color: var(--fill-color);\n",
              "    }\n",
              "    30% {\n",
              "      border-color: transparent;\n",
              "      border-left-color: var(--fill-color);\n",
              "      border-top-color: var(--fill-color);\n",
              "      border-right-color: var(--fill-color);\n",
              "    }\n",
              "    40% {\n",
              "      border-color: transparent;\n",
              "      border-right-color: var(--fill-color);\n",
              "      border-top-color: var(--fill-color);\n",
              "    }\n",
              "    60% {\n",
              "      border-color: transparent;\n",
              "      border-right-color: var(--fill-color);\n",
              "    }\n",
              "    80% {\n",
              "      border-color: transparent;\n",
              "      border-right-color: var(--fill-color);\n",
              "      border-bottom-color: var(--fill-color);\n",
              "    }\n",
              "    90% {\n",
              "      border-color: transparent;\n",
              "      border-bottom-color: var(--fill-color);\n",
              "    }\n",
              "  }\n",
              "</style>\n",
              "\n",
              "  <script>\n",
              "    async function quickchart(key) {\n",
              "      const quickchartButtonEl =\n",
              "        document.querySelector('#' + key + ' button');\n",
              "      quickchartButtonEl.disabled = true;  // To prevent multiple clicks.\n",
              "      quickchartButtonEl.classList.add('colab-df-spinner');\n",
              "      try {\n",
              "        const charts = await google.colab.kernel.invokeFunction(\n",
              "            'suggestCharts', [key], {});\n",
              "      } catch (error) {\n",
              "        console.error('Error during call to suggestCharts:', error);\n",
              "      }\n",
              "      quickchartButtonEl.classList.remove('colab-df-spinner');\n",
              "      quickchartButtonEl.classList.add('colab-df-quickchart-complete');\n",
              "    }\n",
              "    (() => {\n",
              "      let quickchartButtonEl =\n",
              "        document.querySelector('#df-d3b3f352-b6dc-40c1-aed0-cdef18a9c928 button');\n",
              "      quickchartButtonEl.style.display =\n",
              "        google.colab.kernel.accessAllowed ? 'block' : 'none';\n",
              "    })();\n",
              "  </script>\n",
              "</div>\n",
              "    </div>\n",
              "  </div>\n"
            ]
          },
          "metadata": {},
          "execution_count": 4
        }
      ]
    },
    {
      "cell_type": "code",
      "source": [
        "# Create method to return indicators on given environment\n",
        "\n",
        "def signals(env):\n",
        "  start = env.frame_bound[0] - env.window_size\n",
        "  end = env.frame_bound[1]\n",
        "  prices = env.df.loc[:, 'close'].to_numpy()[start:end]\n",
        "  signal_features = env.df.loc[:, ['close', 'volume', 'SMA_10', 'RSI_10']].to_numpy()[start:end]\n",
        "  return prices, signal_features\n",
        "\n",
        "# Create custom environment\n",
        "\n",
        "class CustomEnv(StocksEnv):\n",
        "  _process_data = signals"
      ],
      "metadata": {
        "id": "2CR-l0_bz4zO",
        "colab": {
          "base_uri": "https://localhost:8080/"
        },
        "outputId": "bd72849e-0160-4973-fdc3-81458d4f0b38"
      },
      "execution_count": 5,
      "outputs": [
        {
          "output_type": "stream",
          "name": "stderr",
          "text": [
            "/usr/local/lib/python3.10/dist-packages/ipykernel/ipkernel.py:283: DeprecationWarning: `should_run_async` will not call `transform_cell` automatically in the future. Please pass the result to `transformed_cell` argument and any exception that happen during thetransform in `preprocessing_exc_tuple` in IPython 7.17 and above.\n",
            "  and should_run_async(code)\n"
          ]
        }
      ]
    },
    {
      "cell_type": "code",
      "source": [
        "# Create test environment\n",
        "\n",
        "train_end = int(len(test_df) * 0.8)\n",
        "\n",
        "env = CustomEnv(df=test_df, window_size=10, frame_bound=(10, train_end))\n",
        "env_lambda = lambda: env\n",
        "test_vec_env = DummyVecEnv([env_lambda])"
      ],
      "metadata": {
        "id": "Zo4mHeaj4Bkp"
      },
      "execution_count": 6,
      "outputs": []
    },
    {
      "cell_type": "code",
      "source": [
        "# Set up callbacks for storing best model params and stopping when reward is good enough\n",
        "\n",
        "stop_callback = StopTrainingOnRewardThreshold(reward_threshold=200, verbose=1)\n",
        "eval_callback = EvalCallback(test_vec_env,\n",
        "                             callback_on_new_best=stop_callback,\n",
        "                             eval_freq=10000,\n",
        "                             best_model_save_path=model_save_path / 'test_model',\n",
        "                             verbose=1)"
      ],
      "metadata": {
        "id": "cHtMIYCVh2Ke"
      },
      "execution_count": 35,
      "outputs": []
    },
    {
      "cell_type": "code",
      "source": [
        "# Create RL model\n",
        "\n",
        "test_model = A2C('MlpPolicy', test_vec_env, verbose=1)\n",
        "test_model.learn(total_timesteps=100000, callback=eval_callback)"
      ],
      "metadata": {
        "id": "vF_GFEMS5rCg"
      },
      "execution_count": null,
      "outputs": []
    },
    {
      "cell_type": "code",
      "source": [
        "test_model = A2C.load(model_save_path / 'test_model/best_model')"
      ],
      "metadata": {
        "id": "TcFdvAKci6vh"
      },
      "execution_count": 41,
      "outputs": []
    },
    {
      "cell_type": "code",
      "source": [
        "env = CustomEnv(df=test_df, window_size=10, frame_bound=(train_end, len(test_df)))\n",
        "obs = env.reset()[0]\n",
        "\n",
        "while True:\n",
        "  action, _states = test_model.predict(obs)\n",
        "  obs, rewards, terminated, truncated, info = env.step(action)\n",
        "  done = terminated or truncated\n",
        "  if done:\n",
        "    print(\"info\", info)\n",
        "    break"
      ],
      "metadata": {
        "colab": {
          "base_uri": "https://localhost:8080/"
        },
        "id": "BUKlWf615lHK",
        "outputId": "9f007af8-3a61-445f-8efb-871cd89e3f8e"
      },
      "execution_count": 47,
      "outputs": [
        {
          "output_type": "stream",
          "name": "stdout",
          "text": [
            "info {'total_reward': -14.490081787109375, 'total_profit': 0.20036222953674265, 'position': <Positions.Long: 1>}\n"
          ]
        }
      ]
    },
    {
      "cell_type": "code",
      "source": [
        "plt.figure(figsize=(15,6), facecolor='w')\n",
        "plt.cla()\n",
        "env.render_all()\n",
        "plt.show()"
      ],
      "metadata": {
        "id": "7ER0lR635cbv",
        "colab": {
          "base_uri": "https://localhost:8080/",
          "height": 582
        },
        "outputId": "3f45c389-5acc-4c61-80b6-41c0942e6b09"
      },
      "execution_count": 44,
      "outputs": [
        {
          "output_type": "display_data",
          "data": {
            "text/plain": [
              "<Figure size 1500x600 with 1 Axes>"
            ],
            "image/png": "[encoded data removed]"
          },
          "metadata": {}
        }
      ]
    },
    {
      "cell_type": "markdown",
      "source": [
        "# Modular code"
      ],
      "metadata": {
        "id": "gLI51RlS5ySv"
      }
    },
    {
      "cell_type": "markdown",
      "source": [
        "## What to create:\n",
        "* Class for storing base stock data and providing functionality to apply TA functions and return a new data frame\n",
        "* Class to create and train a model and plot its performance\n",
        "\n"
      ],
      "metadata": {
        "id": "-q3fFP036HyA"
      }
    },
    {
      "cell_type": "markdown",
      "source": [
        "## StockData Class"
      ],
      "metadata": {
        "id": "wmx1Yt0g768G"
      }
    },
    {
      "cell_type": "code",
      "source": [
        "class StockData():\n",
        "  def __init__(self,\n",
        "              ticker: str,\n",
        "              start_date: str,\n",
        "              end_date: str,\n",
        "              interval: str):\n",
        "    self.ticker = ticker\n",
        "    self.start_date = start_date\n",
        "    self.end_date = end_date\n",
        "    self.interval = interval\n",
        "    stock_df = get_data(ticker=ticker,\n",
        "                        start_date=start_date,\n",
        "                        end_date=end_date,\n",
        "                        index_as_date=True,\n",
        "                        interval=interval)\n",
        "    self.stock_df = stock_df.drop(\"ticker\", axis=1)\n",
        "\n",
        "  def add_indicators_to_data(self, indicators: List[Callable[[pd.DataFrame], Tuple[List, str]]]) -> pd.DataFrame:\n",
        "    df_copy = self.stock_df.copy()\n",
        "    for indicator in indicators:\n",
        "      col_data, col_name = indicator(df_copy)\n",
        "      if len(col_data) == len(df_copy):\n",
        "        df_copy[col_name] = col_data\n",
        "    df_copy.dropna(inplace=True)\n",
        "    return df_copy\n"
      ],
      "metadata": {
        "id": "XD--5tPl52YL"
      },
      "execution_count": 50,
      "outputs": []
    },
    {
      "cell_type": "markdown",
      "source": [
        "### Test out StockData"
      ],
      "metadata": {
        "id": "W6ERv4PzAAMm"
      }
    },
    {
      "cell_type": "code",
      "source": [
        "StockTest = StockData(ticker=\"AMZN\",\n",
        "                      start_date=\"12/04/2015\",\n",
        "                      end_date=\"12/04/2023\",\n",
        "                      interval=\"1d\")"
      ],
      "metadata": {
        "id": "TLdIEgp8-Sed"
      },
      "execution_count": 51,
      "outputs": []
    },
    {
      "cell_type": "code",
      "source": [
        "indicator_test = lambda df: (ta.sma(close=df['close'], length=10), \"SMA_10\")\n",
        "new_df = StockTest.add_indicators_to_data(indicators=[indicator_test])\n",
        "new_df.head()"
      ],
      "metadata": {
        "colab": {
          "base_uri": "https://localhost:8080/",
          "height": 206
        },
        "id": "S9-cBSPf-2-X",
        "outputId": "c9d14269-1a14-400a-dea7-6fdef68388a5"
      },
      "execution_count": 52,
      "outputs": [
        {
          "output_type": "execute_result",
          "data": {
            "text/plain": [
              "                 open       high        low      close   adjclose     volume  \\\n",
              "2015-12-17  34.000000  34.125000  33.532501  33.532501  33.532501   73632000   \n",
              "2015-12-18  33.432499  33.841999  33.206501  33.207001  33.207001  136826000   \n",
              "2015-12-21  33.424999  33.494999  32.946499  33.225498  33.225498   65018000   \n",
              "2015-12-22  33.341499  33.424500  32.963001  33.157501  33.157501   53356000   \n",
              "2015-12-23  33.325001  33.330002  32.831501  33.185001  33.185001   54458000   \n",
              "\n",
              "              SMA_10  \n",
              "2015-12-17  33.25015  \n",
              "2015-12-18  33.20765  \n",
              "2015-12-21  33.18105  \n",
              "2015-12-22  33.11015  \n",
              "2015-12-23  33.10470  "
            ],
            "text/html": [
              "\n",
              "  <div id=\"df-97aa2136-da1f-4a86-99a7-c347be47e206\" class=\"colab-df-container\">\n",
              "    <div>\n",
              "<style scoped>\n",
              "    .dataframe tbody tr th:only-of-type {\n",
              "        vertical-align: middle;\n",
              "    }\n",
              "\n",
              "    .dataframe tbody tr th {\n",
              "        vertical-align: top;\n",
              "    }\n",
              "\n",
              "    .dataframe thead th {\n",
              "        text-align: right;\n",
              "    }\n",
              "</style>\n",
              "<table border=\"1\" class=\"dataframe\">\n",
              "  <thead>\n",
              "    <tr style=\"text-align: right;\">\n",
              "      <th></th>\n",
              "      <th>open</th>\n",
              "      <th>high</th>\n",
              "      <th>low</th>\n",
              "      <th>close</th>\n",
              "      <th>adjclose</th>\n",
              "      <th>volume</th>\n",
              "      <th>SMA_10</th>\n",
              "    </tr>\n",
              "  </thead>\n",
              "  <tbody>\n",
              "    <tr>\n",
              "      <th>2015-12-17</th>\n",
              "      <td>34.000000</td>\n",
              "      <td>34.125000</td>\n",
              "      <td>33.532501</td>\n",
              "      <td>33.532501</td>\n",
              "      <td>33.532501</td>\n",
              "      <td>73632000</td>\n",
              "      <td>33.25015</td>\n",
              "    </tr>\n",
              "    <tr>\n",
              "      <th>2015-12-18</th>\n",
              "      <td>33.432499</td>\n",
              "      <td>33.841999</td>\n",
              "      <td>33.206501</td>\n",
              "      <td>33.207001</td>\n",
              "      <td>33.207001</td>\n",
              "      <td>136826000</td>\n",
              "      <td>33.20765</td>\n",
              "    </tr>\n",
              "    <tr>\n",
              "      <th>2015-12-21</th>\n",
              "      <td>33.424999</td>\n",
              "      <td>33.494999</td>\n",
              "      <td>32.946499</td>\n",
              "      <td>33.225498</td>\n",
              "      <td>33.225498</td>\n",
              "      <td>65018000</td>\n",
              "      <td>33.18105</td>\n",
              "    </tr>\n",
              "    <tr>\n",
              "      <th>2015-12-22</th>\n",
              "      <td>33.341499</td>\n",
              "      <td>33.424500</td>\n",
              "      <td>32.963001</td>\n",
              "      <td>33.157501</td>\n",
              "      <td>33.157501</td>\n",
              "      <td>53356000</td>\n",
              "      <td>33.11015</td>\n",
              "    </tr>\n",
              "    <tr>\n",
              "      <th>2015-12-23</th>\n",
              "      <td>33.325001</td>\n",
              "      <td>33.330002</td>\n",
              "      <td>32.831501</td>\n",
              "      <td>33.185001</td>\n",
              "      <td>33.185001</td>\n",
              "      <td>54458000</td>\n",
              "      <td>33.10470</td>\n",
              "    </tr>\n",
              "  </tbody>\n",
              "</table>\n",
              "</div>\n",
              "    <div class=\"colab-df-buttons\">\n",
              "\n",
              "  <div class=\"colab-df-container\">\n",
              "    <button class=\"colab-df-convert\" onclick=\"convertToInteractive('df-97aa2136-da1f-4a86-99a7-c347be47e206')\"\n",
              "            title=\"Convert this dataframe to an interactive table.\"\n",
              "            style=\"display:none;\">\n",
              "\n",
              "  <svg xmlns=\"http://www.w3.org/2000/svg\" height=\"24px\" viewBox=\"0 -960 960 960\">\n",
              "    <path d=\"M120-120v-720h720v720H120Zm60-500h600v-160H180v160Zm220 220h160v-160H400v160Zm0 220h160v-160H400v160ZM180-400h160v-160H180v160Zm440 0h160v-160H620v160ZM180-180h160v-160H180v160Zm440 0h160v-160H620v160Z\"/>\n",
              "  </svg>\n",
              "    </button>\n",
              "\n",
              "  <style>\n",
              "    .colab-df-container {\n",
              "      display:flex;\n",
              "      gap: 12px;\n",
              "    }\n",
              "\n",
              "    .colab-df-convert {\n",
              "      background-color: #E8F0FE;\n",
              "      border: none;\n",
              "      border-radius: 50%;\n",
              "      cursor: pointer;\n",
              "      display: none;\n",
              "      fill: #1967D2;\n",
              "      height: 32px;\n",
              "      padding: 0 0 0 0;\n",
              "      width: 32px;\n",
              "    }\n",
              "\n",
              "    .colab-df-convert:hover {\n",
              "      background-color: #E2EBFA;\n",
              "      box-shadow: 0px 1px 2px rgba(60, 64, 67, 0.3), 0px 1px 3px 1px rgba(60, 64, 67, 0.15);\n",
              "      fill: #174EA6;\n",
              "    }\n",
              "\n",
              "    .colab-df-buttons div {\n",
              "      margin-bottom: 4px;\n",
              "    }\n",
              "\n",
              "    [theme=dark] .colab-df-convert {\n",
              "      background-color: #3B4455;\n",
              "      fill: #D2E3FC;\n",
              "    }\n",
              "\n",
              "    [theme=dark] .colab-df-convert:hover {\n",
              "      background-color: #434B5C;\n",
              "      box-shadow: 0px 1px 3px 1px rgba(0, 0, 0, 0.15);\n",
              "      filter: drop-shadow(0px 1px 2px rgba(0, 0, 0, 0.3));\n",
              "      fill: #FFFFFF;\n",
              "    }\n",
              "  </style>\n",
              "\n",
              "    <script>\n",
              "      const buttonEl =\n",
              "        document.querySelector('#df-97aa2136-da1f-4a86-99a7-c347be47e206 button.colab-df-convert');\n",
              "      buttonEl.style.display =\n",
              "        google.colab.kernel.accessAllowed ? 'block' : 'none';\n",
              "\n",
              "      async function convertToInteractive(key) {\n",
              "        const element = document.querySelector('#df-97aa2136-da1f-4a86-99a7-c347be47e206');\n",
              "        const dataTable =\n",
              "          await google.colab.kernel.invokeFunction('convertToInteractive',\n",
              "                                                    [key], {});\n",
              "        if (!dataTable) return;\n",
              "\n",
              "        const docLinkHtml = 'Like what you see? Visit the ' +\n",
              "          '<a target=\"_blank\" href=https://colab.research.google.com/notebooks/data_table.ipynb>data table notebook</a>'\n",
              "          + ' to learn more about interactive tables.';\n",
              "        element.innerHTML = '';\n",
              "        dataTable['output_type'] = 'display_data';\n",
              "        await google.colab.output.renderOutput(dataTable, element);\n",
              "        const docLink = document.createElement('div');\n",
              "        docLink.innerHTML = docLinkHtml;\n",
              "        element.appendChild(docLink);\n",
              "      }\n",
              "    </script>\n",
              "  </div>\n",
              "\n",
              "\n",
              "<div id=\"df-a729e861-f6b4-45b7-9884-85fd11a1726a\">\n",
              "  <button class=\"colab-df-quickchart\" onclick=\"quickchart('df-a729e861-f6b4-45b7-9884-85fd11a1726a')\"\n",
              "            title=\"Suggest charts\"\n",
              "            style=\"display:none;\">\n",
              "\n",
              "<svg xmlns=\"http://www.w3.org/2000/svg\" height=\"24px\"viewBox=\"0 0 24 24\"\n",
              "     width=\"24px\">\n",
              "    <g>\n",
              "        <path d=\"M19 3H5c-1.1 0-2 .9-2 2v14c0 1.1.9 2 2 2h14c1.1 0 2-.9 2-2V5c0-1.1-.9-2-2-2zM9 17H7v-7h2v7zm4 0h-2V7h2v10zm4 0h-2v-4h2v4z\"/>\n",
              "    </g>\n",
              "</svg>\n",
              "  </button>\n",
              "\n",
              "<style>\n",
              "  .colab-df-quickchart {\n",
              "      --bg-color: #E8F0FE;\n",
              "      --fill-color: #1967D2;\n",
              "      --hover-bg-color: #E2EBFA;\n",
              "      --hover-fill-color: #174EA6;\n",
              "      --disabled-fill-color: #AAA;\n",
              "      --disabled-bg-color: #DDD;\n",
              "  }\n",
              "\n",
              "  [theme=dark] .colab-df-quickchart {\n",
              "      --bg-color: #3B4455;\n",
              "      --fill-color: #D2E3FC;\n",
              "      --hover-bg-color: #434B5C;\n",
              "      --hover-fill-color: #FFFFFF;\n",
              "      --disabled-bg-color: #3B4455;\n",
              "      --disabled-fill-color: #666;\n",
              "  }\n",
              "\n",
              "  .colab-df-quickchart {\n",
              "    background-color: var(--bg-color);\n",
              "    border: none;\n",
              "    border-radius: 50%;\n",
              "    cursor: pointer;\n",
              "    display: none;\n",
              "    fill: var(--fill-color);\n",
              "    height: 32px;\n",
              "    padding: 0;\n",
              "    width: 32px;\n",
              "  }\n",
              "\n",
              "  .colab-df-quickchart:hover {\n",
              "    background-color: var(--hover-bg-color);\n",
              "    box-shadow: 0 1px 2px rgba(60, 64, 67, 0.3), 0 1px 3px 1px rgba(60, 64, 67, 0.15);\n",
              "    fill: var(--button-hover-fill-color);\n",
              "  }\n",
              "\n",
              "  .colab-df-quickchart-complete:disabled,\n",
              "  .colab-df-quickchart-complete:disabled:hover {\n",
              "    background-color: var(--disabled-bg-color);\n",
              "    fill: var(--disabled-fill-color);\n",
              "    box-shadow: none;\n",
              "  }\n",
              "\n",
              "  .colab-df-spinner {\n",
              "    border: 2px solid var(--fill-color);\n",
              "    border-color: transparent;\n",
              "    border-bottom-color: var(--fill-color);\n",
              "    animation:\n",
              "      spin 1s steps(1) infinite;\n",
              "  }\n",
              "\n",
              "  @keyframes spin {\n",
              "    0% {\n",
              "      border-color: transparent;\n",
              "      border-bottom-color: var(--fill-color);\n",
              "      border-left-color: var(--fill-color);\n",
              "    }\n",
              "    20% {\n",
              "      border-color: transparent;\n",
              "      border-left-color: var(--fill-color);\n",
              "      border-top-color: var(--fill-color);\n",
              "    }\n",
              "    30% {\n",
              "      border-color: transparent;\n",
              "      border-left-color: var(--fill-color);\n",
              "      border-top-color: var(--fill-color);\n",
              "      border-right-color: var(--fill-color);\n",
              "    }\n",
              "    40% {\n",
              "      border-color: transparent;\n",
              "      border-right-color: var(--fill-color);\n",
              "      border-top-color: var(--fill-color);\n",
              "    }\n",
              "    60% {\n",
              "      border-color: transparent;\n",
              "      border-right-color: var(--fill-color);\n",
              "    }\n",
              "    80% {\n",
              "      border-color: transparent;\n",
              "      border-right-color: var(--fill-color);\n",
              "      border-bottom-color: var(--fill-color);\n",
              "    }\n",
              "    90% {\n",
              "      border-color: transparent;\n",
              "      border-bottom-color: var(--fill-color);\n",
              "    }\n",
              "  }\n",
              "</style>\n",
              "\n",
              "  <script>\n",
              "    async function quickchart(key) {\n",
              "      const quickchartButtonEl =\n",
              "        document.querySelector('#' + key + ' button');\n",
              "      quickchartButtonEl.disabled = true;  // To prevent multiple clicks.\n",
              "      quickchartButtonEl.classList.add('colab-df-spinner');\n",
              "      try {\n",
              "        const charts = await google.colab.kernel.invokeFunction(\n",
              "            'suggestCharts', [key], {});\n",
              "      } catch (error) {\n",
              "        console.error('Error during call to suggestCharts:', error);\n",
              "      }\n",
              "      quickchartButtonEl.classList.remove('colab-df-spinner');\n",
              "      quickchartButtonEl.classList.add('colab-df-quickchart-complete');\n",
              "    }\n",
              "    (() => {\n",
              "      let quickchartButtonEl =\n",
              "        document.querySelector('#df-a729e861-f6b4-45b7-9884-85fd11a1726a button');\n",
              "      quickchartButtonEl.style.display =\n",
              "        google.colab.kernel.accessAllowed ? 'block' : 'none';\n",
              "    })();\n",
              "  </script>\n",
              "</div>\n",
              "    </div>\n",
              "  </div>\n"
            ]
          },
          "metadata": {},
          "execution_count": 52
        }
      ]
    },
    {
      "cell_type": "markdown",
      "source": [
        "## ModelBuilder Class"
      ],
      "metadata": {
        "id": "0KJi8Be-A4Sl"
      }
    },
    {
      "cell_type": "code",
      "source": [
        "# Create method to return indicators on given environment\n",
        "\n",
        "def signals(env):\n",
        "  start = env.frame_bound[0] - env.window_size\n",
        "  end = env.frame_bound[1]\n",
        "  prices = env.df.loc[:, 'close'].to_numpy()[start:end]\n",
        "  signal_features = env.df.to_numpy()[start:end]\n",
        "  return prices, signal_features\n",
        "\n",
        "# Create custom environment\n",
        "\n",
        "class CustomEnv(StocksEnv):\n",
        "  _process_data = signals"
      ],
      "metadata": {
        "colab": {
          "base_uri": "https://localhost:8080/"
        },
        "id": "QPdU9LHUBQ-0",
        "outputId": "2d201fe9-ea71-49bb-f6dd-b8e279a577e9"
      },
      "execution_count": 66,
      "outputs": [
        {
          "output_type": "stream",
          "name": "stderr",
          "text": [
            "/usr/local/lib/python3.10/dist-packages/ipykernel/ipkernel.py:283: DeprecationWarning: `should_run_async` will not call `transform_cell` automatically in the future. Please pass the result to `transformed_cell` argument and any exception that happen during thetransform in `preprocessing_exc_tuple` in IPython 7.17 and above.\n",
            "  and should_run_async(code)\n"
          ]
        }
      ]
    },
    {
      "cell_type": "code",
      "source": [
        "class ModelBuilder():\n",
        "  def __init__(self, df, window_size, train_percentage, eval_callback_freq, model_save_path):\n",
        "    self.df = df\n",
        "    self.window_size = window_size\n",
        "    self.train_end = int(train_percentage * len(df))\n",
        "    self.model_save_path = model_save_path\n",
        "    env = CustomEnv(df=df, window_size=window_size, frame_bound=(window_size, self.train_end))\n",
        "    env_lambda = lambda: env\n",
        "    self.env = DummyVecEnv([env_lambda])\n",
        "\n",
        "    self.stop_callback = StopTrainingOnRewardThreshold(reward_threshold=200, verbose=1)\n",
        "    self.eval_callback = EvalCallback(self.env,\n",
        "                                      callback_on_new_best=self.stop_callback,\n",
        "                                      eval_freq=eval_callback_freq,\n",
        "                                      best_model_save_path=model_save_path,\n",
        "                                      verbose=1)\n",
        "    self.model = A2C('MlpPolicy', self.env, verbose=1)\n",
        "\n",
        "  def train_model(self, timesteps):\n",
        "    self.model.learn(total_timesteps=timesteps, callback=self.eval_callback)\n",
        "    self.model = A2C.load(self.model_save_path / 'best_model')\n",
        "\n",
        "  def test_model(self, frame_bound=None):\n",
        "    if frame_bound == None:\n",
        "      frame_bound = (self.train_end, len(self.df))\n",
        "    test_env = CustomEnv(df=self.df, window_size=self.window_size, frame_bound=frame_bound)\n",
        "    obs = test_env.reset()[0]\n",
        "\n",
        "    while True:\n",
        "      action, _states = self.model.predict(obs)\n",
        "      obs, rewards, terminated, truncated, info = test_env.step(action)\n",
        "      done = terminated or truncated\n",
        "      if done:\n",
        "        print(\"info\", info)\n",
        "        break\n",
        "\n",
        "    plt.figure(figsize=(15,6), facecolor='w')\n",
        "    plt.cla()\n",
        "    test_env.render_all()\n",
        "    plt.show()"
      ],
      "metadata": {
        "colab": {
          "base_uri": "https://localhost:8080/"
        },
        "id": "iJY8JKGYBwNP",
        "outputId": "083eb915-809e-433a-daa9-6629b5302e12"
      },
      "execution_count": 103,
      "outputs": [
        {
          "output_type": "stream",
          "name": "stderr",
          "text": [
            "/usr/local/lib/python3.10/dist-packages/ipykernel/ipkernel.py:283: DeprecationWarning: `should_run_async` will not call `transform_cell` automatically in the future. Please pass the result to `transformed_cell` argument and any exception that happen during thetransform in `preprocessing_exc_tuple` in IPython 7.17 and above.\n",
            "  and should_run_async(code)\n"
          ]
        }
      ]
    },
    {
      "cell_type": "markdown",
      "source": [
        "### Test out ModelBuilder"
      ],
      "metadata": {
        "id": "G-FrqywpFw8y"
      }
    },
    {
      "cell_type": "code",
      "source": [
        "TestModelBuilder = ModelBuilder(df=new_df,\n",
        "                                window_size=10,\n",
        "                                train_percentage=0.8,\n",
        "                                eval_callback_freq=5000,\n",
        "                                model_save_path=model_save_path / 'test_model')"
      ],
      "metadata": {
        "colab": {
          "base_uri": "https://localhost:8080/"
        },
        "id": "MT_FsoxqFp8-",
        "outputId": "ab5aa903-995c-4860-8adc-07d514cba66e"
      },
      "execution_count": 104,
      "outputs": [
        {
          "output_type": "stream",
          "name": "stdout",
          "text": [
            "Using cuda device\n"
          ]
        }
      ]
    },
    {
      "cell_type": "code",
      "source": [
        "TestModelBuilder.train_model(5000)"
      ],
      "metadata": {
        "id": "rbT1ml7xGOqG"
      },
      "execution_count": null,
      "outputs": []
    },
    {
      "cell_type": "code",
      "source": [
        "TestModelBuilder.test_model()"
      ],
      "metadata": {
        "colab": {
          "base_uri": "https://localhost:8080/",
          "height": 654
        },
        "id": "6xV7UVm7GTkd",
        "outputId": "bc0831a3-da90-4b8b-e281-f1688c80d0e2"
      },
      "execution_count": 111,
      "outputs": [
        {
          "output_type": "stream",
          "name": "stderr",
          "text": [
            "/usr/local/lib/python3.10/dist-packages/ipykernel/ipkernel.py:283: DeprecationWarning: `should_run_async` will not call `transform_cell` automatically in the future. Please pass the result to `transformed_cell` argument and any exception that happen during thetransform in `preprocessing_exc_tuple` in IPython 7.17 and above.\n",
            "  and should_run_async(code)\n"
          ]
        },
        {
          "output_type": "stream",
          "name": "stdout",
          "text": [
            "info {'total_reward': 14.236007690429688, 'total_profit': 0.4321246465578321, 'position': <Positions.Long: 1>}\n"
          ]
        },
        {
          "output_type": "display_data",
          "data": {
            "text/plain": [
              "<Figure size 1500x600 with 1 Axes>"
            ],
            "image/png": "[encoded data removed]"
          },
          "metadata": {}
        }
      ]
    },
    {
      "cell_type": "code",
      "source": [],
      "metadata": {
        "id": "X391CF_JGYd0"
      },
      "execution_count": null,
      "outputs": []
    }
  ]
}