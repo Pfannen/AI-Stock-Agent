{
  "nbformat": 4,
  "nbformat_minor": 0,
  "metadata": {
    "colab": {
      "provenance": [],
      "toc_visible": true,
      "gpuType": "T4",
      "authorship_tag": "ABX9TyP0UOzFxev5lZV/VpD263o1",
      "include_colab_link": true
    },
    "kernelspec": {
      "name": "python3",
      "display_name": "Python 3"
    },
    "language_info": {
      "name": "python"
    },
    "accelerator": "GPU"
  },
  "cells": [
    {
      "cell_type": "markdown",
      "metadata": {
        "id": "view-in-github",
        "colab_type": "text"
      },
      "source": [
        "<a href=\"https://colab.research.google.com/github/Pfannen/AI-Stock-Agent/blob/main/notebooks/stock_agent_data.ipynb\" target=\"_parent\"><img src=\"https://colab.research.google.com/assets/colab-badge.svg\" alt=\"Open In Colab\"/></a>"
      ]
    },
    {
      "cell_type": "markdown",
      "source": [
        "## Test Section"
      ],
      "metadata": {
        "id": "N2-M5dZJ0Xkh"
      }
    },
    {
      "cell_type": "code",
      "execution_count": null,
      "metadata": {
        "id": "UAM_8l8dl6A2"
      },
      "outputs": [],
      "source": [
        "# Install required dependencies\n",
        "!pip install yahoo_fin\n",
        "!pip install requests_html"
      ]
    },
    {
      "cell_type": "code",
      "source": [
        "# Explore what's returned from yahoo_fin\n",
        "\n",
        "from yahoo_fin.stock_info import get_data\n",
        "\n",
        "amazon_daily = get_data(\n",
        "    ticker=\"AMZN\",\n",
        "    start_date=\"12/04/2020\",\n",
        "    end_date=\"12/04/2021\",\n",
        "    index_as_date=True,\n",
        "    interval=\"1d\"\n",
        ")"
      ],
      "metadata": {
        "id": "BJSHaKW8l9lZ"
      },
      "execution_count": 51,
      "outputs": []
    },
    {
      "cell_type": "code",
      "source": [
        "amazon_daily"
      ],
      "metadata": {
        "id": "bSJTvLD2mfCQ"
      },
      "execution_count": null,
      "outputs": []
    },
    {
      "cell_type": "code",
      "source": [
        "# Make an array that stores tuples -> last 7 day closing prices, current day's closing price\n",
        "\n",
        "LOOKBACK_INTERVAL = 7\n",
        "amazon_model_data = []\n",
        "\n",
        "# We need to loop through all of amazon_daily, grab previous 7 entries and current entry\n",
        "for i in range(LOOKBACK_INTERVAL, len(amazon_daily)):\n",
        "  current_close = amazon_daily['close'][i]\n",
        "  previous_closes = amazon_daily['close'][i-LOOKBACK_INTERVAL:i]\n",
        "  input_data_with_label = (previous_closes, current_close)\n",
        "  amazon_model_data.append(input_data_with_label)\n",
        "\n",
        "amazon_model_data[0]"
      ],
      "metadata": {
        "id": "KW7avxGsmgOX"
      },
      "execution_count": null,
      "outputs": []
    },
    {
      "cell_type": "code",
      "source": [
        "import numpy as np\n",
        "from sklearn.preprocessing import MinMaxScaler\n",
        "scaler = MinMaxScaler()\n",
        "\n",
        "data = np.array(amazon_daily['close']).reshape(-1, 1)\n",
        "scaler.fit(data)\n",
        "data = scaler.transform(data).reshape(-1)\n",
        "data = np.array(data).reshape(-1, 1)\n",
        "scaler.inverse_transform(data).reshape(-1)\n",
        "amazon_daily['close'] = data"
      ],
      "metadata": {
        "id": "JQhbJBmMAvHI"
      },
      "execution_count": 58,
      "outputs": []
    },
    {
      "cell_type": "markdown",
      "source": [
        "## Modular Code Section"
      ],
      "metadata": {
        "id": "BvIPxQJa0VYF"
      }
    },
    {
      "cell_type": "markdown",
      "source": [
        "### Data Retrieval"
      ],
      "metadata": {
        "id": "si2k9B6BFZ6l"
      }
    },
    {
      "cell_type": "code",
      "source": [
        "# Functionize everything\n",
        "# Step 1: Get data from yahoo_fin.stock\n",
        "# Step 2: Create a scaler for the data and apply it\n",
        "# Step 3: Split data into a tuple -> ([num_samples, lookback_interval, 1], [num_samples])\n",
        "# Step 4: Create a data loader for train and test data\n",
        "\n",
        "from yahoo_fin.stock_info import get_data\n",
        "import numpy as np\n",
        "from pandas import DataFrame\n",
        "import math\n",
        "import numpy\n",
        "from sklearn.preprocessing import MinMaxScaler\n",
        "\n",
        "def get_stock_data(ticker: str,\n",
        "                  start_date: str,\n",
        "                  end_date: str,\n",
        "                  index_as_date: bool,\n",
        "                  interval: str):\n",
        "  stock_data = get_data(ticker, start_date, end_date, index_as_date, interval)\n",
        "  stock_close_data = stock_data['close']\n",
        "  return stock_close_data\n",
        "\n",
        "def get_stock_data_frame(ticker: str,\n",
        "                         start_date: str,\n",
        "                         end_date: str,\n",
        "                         index_as_date: bool,\n",
        "                         interval: str):\n",
        "  return get_data(ticker, start_date, end_date, index_as_date, interval)\n",
        "\n",
        "def split_train_test(input_data, labels, train_size_percentage):\n",
        "  last_train_idx = math.floor(len(labels) * train_size_percentage)\n",
        "\n",
        "  train_data = input_data[:last_train_idx]\n",
        "  train_labels = labels[:last_train_idx]\n",
        "  test_data = input_data[last_train_idx:]\n",
        "  test_labels = labels[last_train_idx:]\n",
        "\n",
        "  return train_data, train_labels, test_data, test_labels\n",
        "\n",
        "def generate_input_data(stock_data, lookback_interval):\n",
        "  model_data = []\n",
        "  model_labels = []\n",
        "\n",
        "  for i in range(lookback_interval, len(stock_data)):\n",
        "    current_close_price = stock_data[i]\n",
        "    previous_closes = stock_data[i-lookback_interval:i]\n",
        "    model_data.append(previous_closes)\n",
        "    model_labels.append(current_close_price)\n",
        "\n",
        "  return model_data, model_labels\n",
        "\n",
        "def get_feature_data(data, lookback_interval, data_features: List[DataFeature]):\n",
        "  feature_data = [ [ [] for _ in range(lookback_interval) ] for _ in range(len(data)) ]\n",
        "  #features = [ [ [] for _ in range(12) ] for _ in range(12, n) ]\n",
        "  model_labels = data['close'][:]\n",
        "\n",
        "  removal_count = 0\n",
        "  for data_feature in data_features:\n",
        "    removal_count = max(removal_count, data_feature.compute_feature(data, feature_data))\n",
        "\n",
        "  return feature_data[removal_count:], model_labels[removal_count:]\n",
        "\n",
        "def get_scaler_for_data(stock_data):\n",
        "  scaler = MinMaxScaler()\n",
        "  stock_data = np.array(stock_data).reshape(-1, 1)\n",
        "  scaler.fit(stock_data)\n",
        "  return scaler\n",
        "\n",
        "def apply_scaler_to_data(data, scaler, inverse=False):\n",
        "  data = np.array(data).reshape(-1, 1)\n",
        "  if inverse:\n",
        "    data = scaler.inverse_transform(data).reshape(-1)\n",
        "  else:\n",
        "    data = scaler.transform(data).reshape(-1)\n",
        "  return data"
      ],
      "metadata": {
        "id": "ZhlHoN8Xn3HH"
      },
      "execution_count": 64,
      "outputs": []
    },
    {
      "cell_type": "code",
      "source": [
        "def get_trainable_data_from_ticker(ticker: str,\n",
        "                                   start_date: str,\n",
        "                                   end_date: str,\n",
        "                                   index_as_date: bool,\n",
        "                                   interval: str,\n",
        "                                   lookback_interval:int,\n",
        "                                   train_size_percentage: float,\n",
        "                                   batch_size: int,\n",
        "                                   num_workers: int):\n",
        "  stock_data = get_stock_data(ticker,\n",
        "                              start_date,\n",
        "                              end_date,\n",
        "                              index_as_date,\n",
        "                              interval)\n",
        "  scaler = get_scaler_for_data(stock_data)\n",
        "  scaled_stock_data = apply_scaler_to_data(stock_data, scaler)\n",
        "  input_data, labels = generate_input_data(scaled_stock_data, lookback_interval)\n",
        "  train_X, train_y, test_X, test_y = split_train_test(input_data, labels, train_size_percentage)\n",
        "\n",
        "  train_dataset, test_dataset = StockDataset(stock_data=[train_X, train_y]), StockDataset(stock_data=[test_X, test_y])\n",
        "\n",
        "  train_dataloader = DataLoader(dataset=train_dataset,\n",
        "                                batch_size=batch_size,\n",
        "                                shuffle=False,\n",
        "                                num_workers=num_workers)\n",
        "  test_dataloader = DataLoader(dataset=test_dataset,\n",
        "                               batch_size=batch_size,\n",
        "                               shuffle=False,\n",
        "                               num_workers=num_workers)\n",
        "\n",
        "  return train_dataloader, test_dataloader, stock_data, train_X, train_y, test_X, test_y, scaler"
      ],
      "metadata": {
        "id": "BFbEULGhFd7Q"
      },
      "execution_count": 25,
      "outputs": []
    },
    {
      "cell_type": "markdown",
      "source": [
        "### Classes"
      ],
      "metadata": {
        "id": "Jfa9FAnoFX0u"
      }
    },
    {
      "cell_type": "markdown",
      "source": [
        "#### Dataset"
      ],
      "metadata": {
        "id": "WplxJs7pT85t"
      }
    },
    {
      "cell_type": "code",
      "source": [
        "import torch\n",
        "from torch.utils.data import Dataset, DataLoader\n",
        "\n",
        "class StockDataset(Dataset):\n",
        "  def __init__(self, stock_data):\n",
        "    self.data = stock_data\n",
        "\n",
        "  def __len__(self):\n",
        "    return len(self.data[1])\n",
        "\n",
        "  def __getitem__(self, index):\n",
        "    input = torch.tensor(self.data[0][index], dtype=torch.float32)\n",
        "    label = torch.tensor(self.data[1][index], dtype=torch.float32)\n",
        "    return input, label"
      ],
      "metadata": {
        "id": "ZtZnhGaC71-R"
      },
      "execution_count": 26,
      "outputs": []
    },
    {
      "cell_type": "markdown",
      "source": [
        "#### StockModelData"
      ],
      "metadata": {
        "id": "oed4ZEAqUJPx"
      }
    },
    {
      "cell_type": "code",
      "source": [
        "# THIS IS AN OLD CLASS\n",
        "# Let's create a class that will house everything we need to train and evaluate a model\n",
        "# We need to pass in the stock info we want\n",
        "# We need to store the original data, train and test data, the scaler used, and the dataloaders\n",
        "# We also should provide methods for evaluating the model on the test data and subsequently have it plot predicted vs actual\n",
        "class StockModelData():\n",
        "  def __init__(self,\n",
        "               ticker: str,\n",
        "               start_date: str,\n",
        "               end_date: str,\n",
        "               index_as_date: bool,\n",
        "               interval: str,\n",
        "               lookback_interval: int,\n",
        "               train_size_percentage: float,\n",
        "               batch_size: int,\n",
        "               device: str):\n",
        "    self.ticker = ticker\n",
        "    self.start_date = start_date\n",
        "    self.end_date = end_date\n",
        "    self.index_as_date = index_as_date\n",
        "    self.interval = interval\n",
        "    self.lookback_interval = lookback_interval\n",
        "    self.train_size_percentage = train_size_percentage\n",
        "    self.batch_size = batch_size\n",
        "    self.device = device\n",
        "\n",
        "    # Get a lot of data that's used to train and predict on a model\n",
        "    train_dataloader, test_dataloader, stock_data, train_X, train_y, test_X, test_y, scaler = get_trainable_data_from_ticker(ticker=ticker,\n",
        "                                                                                                                            start_date=start_date,\n",
        "                                                                                                                            end_date=end_date,\n",
        "                                                                                                                            index_as_date=index_as_date,\n",
        "                                                                                                                            interval=interval,\n",
        "                                                                                                                            lookback_interval=lookback_interval,\n",
        "                                                                                                                            train_size_percentage=train_size_percentage,\n",
        "                                                                                                                            batch_size=batch_size,\n",
        "                                                                                                                            num_workers=1)\n",
        "\n",
        "    self.train_dataloader = train_dataloader\n",
        "    self.test_dataloader = test_dataloader\n",
        "    self.stock_data = stock_data\n",
        "    self.train_X = train_X\n",
        "    self.train_y = train_y\n",
        "    self.test_X = test_X\n",
        "    self.test_y = test_y\n",
        "    self.scaler = scaler\n",
        "\n",
        "  def get_original_stock_values(self, scaled_values):\n",
        "    original_values = []\n",
        "    for value_list in scaled_values:\n",
        "      original_values.append(apply_scaler_to_data(value_list, self.scaler, True))\n",
        "    return original_values\n",
        "\n",
        "  def train_model(self, model, loss_fn, optimizer, epochs, device):\n",
        "    results = train(model=model,\n",
        "                    train_dataloader=self.train_dataloader,\n",
        "                    test_dataloader=self.test_dataloader,\n",
        "                    loss_fn=loss_fn,\n",
        "                    optimizer=optimizer,\n",
        "                    epochs=epochs,\n",
        "                    device=device)\n",
        "    return results\n",
        "\n",
        "  def plot_model_preds(self, model):\n",
        "    train_preds, test_preds = get_model_preds(model, self.train_X, self.test_X, self.device)\n",
        "    train_preds, test_preds = self.get_original_stock_values([train_preds, test_preds])\n",
        "\n",
        "    # The model won't have predictions for the first lookback_interval indices because they're used for the first value's features\n",
        "    stock_data = self.stock_data[self.lookback_interval:]\n",
        "    cutoff_idx = len(train_preds)\n",
        "    plot_stock_predictions(stock_data[:cutoff_idx], stock_data[cutoff_idx:], train_preds, test_preds)\n",
        "\n",
        "  def get_model_preds_on_self(self, model, interval_pred_count):\n",
        "    cur_lookback = [self.test_y[-self.lookback_interval:]]\n",
        "    preds = []\n",
        "\n",
        "    with torch.inference_mode():\n",
        "      for i in range(interval_pred_count):\n",
        "        input_tensor = torch.tensor(cur_lookback, dtype=torch.float32).to(self.device)\n",
        "        cur_pred = model(input_tensor).item()\n",
        "        preds.append(cur_pred)\n",
        "        cur_lookback = [cur_lookback[0][1:]]\n",
        "        cur_lookback[0].append(cur_pred)\n",
        "\n",
        "      preds = apply_scaler_to_data(preds, self.scaler, True)\n",
        "      plot_stock_predictions(train_data=self.stock_data,\n",
        "                             test_data=preds,\n",
        "                             train_preds=self.stock_data,\n",
        "                             test_preds=preds)\n",
        "      return preds"
      ],
      "metadata": {
        "id": "UZBfVxO3UIYH"
      },
      "execution_count": 27,
      "outputs": []
    },
    {
      "cell_type": "markdown",
      "source": [
        "#### StockData"
      ],
      "metadata": {
        "id": "MZC-URjjcd2B"
      }
    },
    {
      "cell_type": "code",
      "source": [
        "class StockData():\n",
        "  def __init__(self,\n",
        "               ticker: str,\n",
        "               start_date: str,\n",
        "               end_date: str,\n",
        "               index_as_date: bool,\n",
        "               interval: str):\n",
        "    self.ticker = ticker\n",
        "    self.start_date = start_date\n",
        "    self.end_date = end_date\n",
        "    self.index_as_date = index_as_date\n",
        "    self.interval = interval\n",
        "    self.stock_data = get_stock_data_frame(ticker,\n",
        "                                          start_date,\n",
        "                                          end_date,\n",
        "                                          index_as_date,\n",
        "                                          interval)\n",
        "    self.scaler = get_scaler_for_data(self.stock_data['close'])\n",
        "    self.original_stock_closes = self.stock_data['close'][:]\n",
        "    self.stock_data['close'] = self.get_scaled_stock_data()\n",
        "\n",
        "  def get_stock_data(self):\n",
        "    return self.stock_data\n",
        "\n",
        "  def get_original_stock_closes(self):\n",
        "    return self.original_stock_closes\n",
        "\n",
        "  def get_scaled_stock_data(self, inverse_transform = False):\n",
        "    return apply_scaler_to_data(self.stock_data['close'], self.scaler, inverse_transform)\n",
        "\n",
        "  def get_scaled_data(self, data, inverse_transform = False):\n",
        "    return apply_scaler_to_data(data, self.scaler, inverse_transform)"
      ],
      "metadata": {
        "id": "DzzGnbhibeha"
      },
      "execution_count": 62,
      "outputs": []
    },
    {
      "cell_type": "markdown",
      "source": [
        "#### StockDataTransformer"
      ],
      "metadata": {
        "id": "DpIzSAP3dpfg"
      }
    },
    {
      "cell_type": "code",
      "source": [
        "class StockDataTransformer():\n",
        "  def __init__(self,\n",
        "               stock_data: StockData,\n",
        "               feature_computators: List[DataFeature],\n",
        "               lookback_interval: int,\n",
        "               train_size_percentage: float,\n",
        "               batch_size: int,\n",
        "               device: str):\n",
        "    self.stock_data = stock_data\n",
        "    self.feature_computators = feature_computators\n",
        "    self.lookback_interval = lookback_interval\n",
        "    self.train_size_percentage = train_size_percentage\n",
        "    self.batch_size = batch_size\n",
        "    self.device = device\n",
        "\n",
        "    input_data, labels = get_feature_data(data=stock_data.get_stock_data(),\n",
        "                                          lookback_interval=lookback_interval,\n",
        "                                          data_features=feature_computators)\n",
        "    train_X, train_y, test_X, test_y = split_train_test(input_data=input_data,\n",
        "                                                        labels=labels,\n",
        "                                                        train_size_percentage=train_size_percentage)\n",
        "    self.train_X = train_X\n",
        "    self.train_y = train_y\n",
        "    self.test_X = test_X\n",
        "    self.test_y = test_y\n",
        "    print(f\"Test X Len: {len(test_X)} | test y Len: {len(test_y)}\")\n",
        "\n",
        "    train_dataset, test_dataset = StockDataset(stock_data=[train_X, train_y]), StockDataset(stock_data=[test_X, test_y])\n",
        "    self.train_dataloader = DataLoader(dataset=train_dataset,\n",
        "                                       batch_size=batch_size,\n",
        "                                       shuffle=False,\n",
        "                                       num_workers=1)\n",
        "    self.test_dataloader = DataLoader(dataset=test_dataset,\n",
        "                                      batch_size=batch_size,\n",
        "                                      shuffle=False,\n",
        "                                      num_workers=1)\n",
        "\n",
        "  def get_dataloaders(self):\n",
        "    return self.train_dataloader, self.test_dataloader\n"
      ],
      "metadata": {
        "id": "oMJ50GWUc2nW"
      },
      "execution_count": 63,
      "outputs": []
    },
    {
      "cell_type": "markdown",
      "source": [
        "#### DataFeature"
      ],
      "metadata": {
        "id": "WXntiVeBUflM"
      }
    },
    {
      "cell_type": "code",
      "source": [
        "from abc import abstractmethod\n",
        "import collections\n",
        "from collections import deque\n",
        "# Let's create an abstract class where all classes that want to add a feature to the data must inherit\n",
        "class DataFeature():\n",
        "  @abstractmethod\n",
        "  def compute_feature(self, data, feature_data):\n",
        "    \"\"\"\n",
        "    Computes a type of feature that gets added to each input given to a time-series predicting model\n",
        "\n",
        "    Args:\n",
        "      data: A list of closing prices\n",
        "      feature_data: An array of the shape [intervals_predicting, lookback_interval, feature_count_per_interval]\n",
        "\n",
        "    Returns:\n",
        "      Modifies 'feature_data' directly\n",
        "  \"\"\""
      ],
      "metadata": {
        "id": "ILpvQupnUpQI"
      },
      "execution_count": 12,
      "outputs": []
    },
    {
      "cell_type": "markdown",
      "source": [
        "##### Moving Average"
      ],
      "metadata": {
        "id": "uposuAGkM3EY"
      }
    },
    {
      "cell_type": "code",
      "source": [
        "class MovingAverageDataFeature(DataFeature):\n",
        "  def __init__(self, moving_average_period):\n",
        "    self.moving_average_period = moving_average_period\n",
        "\n",
        "  def compute_feature(self, data, feature_data):\n",
        "    # Use n for a shorter variable name\n",
        "    n = self.moving_average_period\n",
        "    lookback_count = len(feature_data[0])\n",
        "    min_data_length = n + lookback_count\n",
        "    if len(data) < min_data_length:\n",
        "      print(f\"There is not enough data! Need atleast {min_data_length} data points, but only got {len(data)}! (MA)\")\n",
        "      return\n",
        "    else:\n",
        "      print(f\"Enough data! In order to work properly, there needs to be {n + lookback_count} intervals removed from the beginning of the feature data! (MA)\")\n",
        "\n",
        "    data = data['close']\n",
        "    # For a moving average, we need to lookback moving_average_period values to get the current interval's MA\n",
        "    # We use a deque for efficent removal from the left (could use a queue)\n",
        "    cur_moving_average = deque()\n",
        "    # Keep track of the current sum and current index\n",
        "    cur_sum = 0\n",
        "    cur_idx = 0\n",
        "\n",
        "    def compute_moving_average_step(deduct = True):\n",
        "      nonlocal cur_idx, cur_sum, data, cur_moving_average\n",
        "      if cur_idx < len(data):\n",
        "        value = data[cur_idx]\n",
        "        if deduct:\n",
        "          cur_sum -= cur_moving_average.popleft()\n",
        "        cur_sum += value\n",
        "        cur_idx += 1\n",
        "        cur_moving_average.append(value)\n",
        "      else:\n",
        "        print(f\"Index {cur_idx} is out of bounds for data of length {len(data)} (MA)\")\n",
        "\n",
        "    # Calculate the first moving average data point\n",
        "    for _ in range(n):\n",
        "      compute_moving_average_step(False)\n",
        "\n",
        "    # cur_sum will store the moving average for the moving_average_period's interval (we will have to start adding at this offset)\n",
        "    # let's fill up the first set of features with their MAs, then we can easily reuse the previous MAs for the next set of features\n",
        "    initial_feature_set = feature_data[n + lookback_count]\n",
        "    # The length of the feature set should be 'lookback_count'\n",
        "    for i in range(len(initial_feature_set)):\n",
        "      initial_feature_set[i].append(cur_sum / n)\n",
        "      compute_moving_average_step()\n",
        "\n",
        "    for i in range(n + lookback_count + 1, len(feature_data)):\n",
        "      feature_set = feature_data[i]\n",
        "      prev_feature_set = feature_data[i-1]\n",
        "      for j in range(len(feature_set)-1):\n",
        "        feature_set[j].append(prev_feature_set[j+1][-1])\n",
        "      feature_set[-1].append(cur_sum / n)\n",
        "      compute_moving_average_step()\n",
        "\n",
        "    print(f\"Returning {n + lookback_count}\")\n",
        "    return n + lookback_count"
      ],
      "metadata": {
        "id": "OqtOzTl6M2GH"
      },
      "execution_count": 65,
      "outputs": []
    },
    {
      "cell_type": "markdown",
      "source": [
        "##### Lookback Closing Price"
      ],
      "metadata": {
        "id": "F-i4cofyM73k"
      }
    },
    {
      "cell_type": "code",
      "source": [
        "class ClosingPriceDataFeature(DataFeature):\n",
        "  def compute_feature(self, data, feature_data):\n",
        "    lookback_count = len(feature_data[0])\n",
        "\n",
        "    if len(data) < lookback_count:\n",
        "      print(f\"There is not enough data! Need atleast {lookback_count} data points, but only got {len(data)}! (CP)\")\n",
        "      return\n",
        "    else:\n",
        "      print(f\"Enough data! In order to work properly, there needs to be {lookback_count} intervals removed from the beginning of the feature data! (CP)\")\n",
        "\n",
        "    data = data['close']\n",
        "\n",
        "    cur_idx = 0\n",
        "    initial_feature_set = feature_data[lookback_count]\n",
        "    for i in range(lookback_count):\n",
        "      initial_feature_set[i].append(data[cur_idx])\n",
        "      cur_idx += 1\n",
        "\n",
        "    for i in range(lookback_count+1, len(feature_data)):\n",
        "      feature_set = feature_data[i]\n",
        "      prev_feature_set = feature_data[i-1]\n",
        "      for j in range(lookback_count-1):\n",
        "        feature_set[j].append(prev_feature_set[j+1][-1])\n",
        "      feature_set[-1].append(data[cur_idx])\n",
        "      cur_idx += 1\n",
        "\n",
        "    return lookback_count"
      ],
      "metadata": {
        "id": "GR6Ar5w-NDdk"
      },
      "execution_count": 66,
      "outputs": []
    },
    {
      "cell_type": "markdown",
      "source": [
        "##### Volume"
      ],
      "metadata": {
        "id": "dB9sz_hGQI4_"
      }
    },
    {
      "cell_type": "code",
      "source": [
        "class VolumeDataFeature(DataFeature):\n",
        "  def compute_feature(self, data, feature_data):\n",
        "    lookback_count = len(feature_data[0])\n",
        "    if len(data) < lookback_count:\n",
        "      print(f\"There is not enough data! Need atleast {lookback_count} data points, but only got {len(data)}! (CP)\")\n",
        "      return\n",
        "    else:\n",
        "      print(f\"Enough data! In order to work properly, there needs to be {lookback_count} intervals removed from the beginning of the feature data! (CP)\")\n",
        "\n",
        "    volume_data = data['volume']\n",
        "\n",
        "    cur_idx = 0\n",
        "    initial_feature_set = feature_data[lookback_count]\n",
        "    for i in range(lookback_count):\n",
        "      initial_feature_set[i].append(volume_data[cur_idx])\n",
        "      cur_idx += 1\n",
        "\n",
        "    for i in range(lookback_count+1, len(feature_data)):\n",
        "      feature_set = feature_data[i]\n",
        "      prev_feature_set = feature_data[i-1]\n",
        "      for j in range(lookback_count-1):\n",
        "        feature_set[j].append(prev_feature_set[j+1][-1])\n",
        "      feature_set[-1].append(volume_data[cur_idx])\n",
        "      cur_idx += 1\n",
        "\n",
        "    return lookback_count"
      ],
      "metadata": {
        "id": "DvUZJsRlQLH7"
      },
      "execution_count": 74,
      "outputs": []
    },
    {
      "cell_type": "markdown",
      "source": [
        "### Train"
      ],
      "metadata": {
        "id": "gWIpNk8SFgd2"
      }
    },
    {
      "cell_type": "code",
      "source": [
        "\"\"\"\n",
        "Contains functions for training and testing a PyTorch model.\n",
        "\"\"\"\n",
        "from typing import Dict, List, Tuple\n",
        "\n",
        "import torch\n",
        "from tqdm.auto import tqdm\n",
        "\n",
        "def train_step(model: torch.nn.Module,\n",
        "               dataloader: torch.utils.data.DataLoader,\n",
        "               loss_fn: torch.nn.Module,\n",
        "               optimizer: torch.optim.Optimizer,\n",
        "               device: torch.device) -> Tuple[float, float]:\n",
        "  \"\"\"Trains a PyTorch model for a single epoch.\n",
        "\n",
        "  Turns a target PyTorch model to training mode and then\n",
        "  runs through all of the required training steps (forward\n",
        "  pass, loss calculation, optimizer step).\n",
        "\n",
        "  Args:\n",
        "    model: A PyTorch model to be trained.\n",
        "    dataloader: A DataLoader instance for the model to be trained on.\n",
        "    loss_fn: A PyTorch loss function to minimize.\n",
        "    optimizer: A PyTorch optimizer to help minimize the loss function.\n",
        "    device: A target device to compute on (e.g. \"cuda\" or \"cpu\").\n",
        "\n",
        "  Returns:\n",
        "    A tuple of training loss and training accuracy metrics.\n",
        "    In the form (train_loss, train_accuracy). For example:\n",
        "\n",
        "    (0.1112, 0.8743)\n",
        "  \"\"\"\n",
        "  # Put model in train mode\n",
        "  model.train()\n",
        "\n",
        "  # Setup train loss and train accuracy values\n",
        "  train_loss = 0\n",
        "\n",
        "  # Loop through data loader data batches\n",
        "  for batch, (X, y) in enumerate(dataloader):\n",
        "      # Send data to target device\n",
        "      X, y = X.to(device), y.to(device)\n",
        "\n",
        "      # 1. Forward pass\n",
        "      y_pred = model(X).squeeze(dim=1)\n",
        "\n",
        "      # 2. Calculate  and accumulate loss\n",
        "      loss = loss_fn(y_pred, y)\n",
        "      train_loss += loss.item()\n",
        "\n",
        "      # 3. Optimizer zero grad\n",
        "      optimizer.zero_grad()\n",
        "\n",
        "      # 4. Loss backward\n",
        "      loss.backward()\n",
        "\n",
        "      # 5. Optimizer step\n",
        "      optimizer.step()\n",
        "\n",
        "  # Adjust metrics to get average loss and accuracy per batch\n",
        "  train_loss = train_loss / len(dataloader)\n",
        "\n",
        "  return train_loss\n",
        "\n",
        "def test_step(model: torch.nn.Module,\n",
        "              dataloader: torch.utils.data.DataLoader,\n",
        "              loss_fn: torch.nn.Module,\n",
        "              device: torch.device) -> Tuple[float, float]:\n",
        "  \"\"\"Tests a PyTorch model for a single epoch.\n",
        "\n",
        "  Turns a target PyTorch model to \"eval\" mode and then performs\n",
        "  a forward pass on a testing dataset.\n",
        "\n",
        "  Args:\n",
        "    model: A PyTorch model to be tested.\n",
        "    dataloader: A DataLoader instance for the model to be tested on.\n",
        "    loss_fn: A PyTorch loss function to calculate loss on the test data.\n",
        "    device: A target device to compute on (e.g. \"cuda\" or \"cpu\").\n",
        "\n",
        "  Returns:\n",
        "    A tuple of testing loss and testing accuracy metrics.\n",
        "    In the form (test_loss, test_accuracy). For example:\n",
        "\n",
        "    (0.0223, 0.8985)\n",
        "  \"\"\"\n",
        "  # Put model in eval mode\n",
        "  model.eval()\n",
        "\n",
        "  # Setup test loss and test accuracy values\n",
        "  test_loss = 0\n",
        "\n",
        "  # Turn on inference context manager\n",
        "  with torch.inference_mode():\n",
        "      # Loop through DataLoader batches\n",
        "      for batch, (X, y) in enumerate(dataloader):\n",
        "          # Send data to target device\n",
        "          X, y = X.to(device), y.to(device)\n",
        "\n",
        "          # 1. Forward pass\n",
        "          test_pred_logits = model(X).squeeze(dim=1)\n",
        "\n",
        "          # 2. Calculate and accumulate loss\n",
        "          loss = loss_fn(test_pred_logits, y)\n",
        "          test_loss += loss.item()\n",
        "\n",
        "  # Adjust metrics to get average loss and accuracy per batch\n",
        "  test_loss = test_loss / len(dataloader)\n",
        "\n",
        "  return test_loss\n",
        "\n",
        "def train(model: torch.nn.Module,\n",
        "          train_dataloader: torch.utils.data.DataLoader,\n",
        "          test_dataloader: torch.utils.data.DataLoader,\n",
        "          optimizer: torch.optim.Optimizer,\n",
        "          loss_fn: torch.nn.Module,\n",
        "          epochs: int,\n",
        "          device: torch.device) -> Dict[str, List[float]]:\n",
        "  \"\"\"Trains and tests a PyTorch model.\n",
        "\n",
        "  Passes a target PyTorch models through train_step() and test_step()\n",
        "  functions for a number of epochs, training and testing the model\n",
        "  in the same epoch loop.\n",
        "\n",
        "  Calculates, prints and stores evaluation metrics throughout.\n",
        "\n",
        "  Args:\n",
        "    model: A PyTorch model to be trained and tested.\n",
        "    train_dataloader: A DataLoader instance for the model to be trained on.\n",
        "    test_dataloader: A DataLoader instance for the model to be tested on.\n",
        "    optimizer: A PyTorch optimizer to help minimize the loss function.\n",
        "    loss_fn: A PyTorch loss function to calculate loss on both datasets.\n",
        "    epochs: An integer indicating how many epochs to train for.\n",
        "    device: A target device to compute on (e.g. \"cuda\" or \"cpu\").\n",
        "\n",
        "  Returns:\n",
        "    A dictionary of training and testing loss as well as training and\n",
        "    testing accuracy metrics. Each metric has a value in a list for\n",
        "    each epoch.\n",
        "    In the form: {train_loss: [...],\n",
        "                  train_acc: [...],\n",
        "                  test_loss: [...],\n",
        "                  test_acc: [...]}\n",
        "    For example if training for epochs=2:\n",
        "                 {train_loss: [2.0616, 1.0537],\n",
        "                  train_acc: [0.3945, 0.3945],\n",
        "                  test_loss: [1.2641, 1.5706],\n",
        "                  test_acc: [0.3400, 0.2973]}\n",
        "  \"\"\"\n",
        "  # Create empty results dictionary\n",
        "  results = {\"train_loss\": [],\n",
        "      \"test_loss\": []\n",
        "  }\n",
        "\n",
        "  # Loop through training and testing steps for a number of epochs\n",
        "  for epoch in tqdm(range(epochs)):\n",
        "      train_loss = train_step(model=model,\n",
        "                                          dataloader=train_dataloader,\n",
        "                                          loss_fn=loss_fn,\n",
        "                                          optimizer=optimizer,\n",
        "                                          device=device)\n",
        "      test_loss = test_step(model=model,\n",
        "          dataloader=test_dataloader,\n",
        "          loss_fn=loss_fn,\n",
        "          device=device)\n",
        "\n",
        "      # Print out what's happening\n",
        "      if epoch % 2 == 0:\n",
        "        print(\n",
        "            f\"Epoch: {epoch+1} | \"\n",
        "            f\"train_loss: {train_loss:.4f} | \"\n",
        "            f\"test_loss: {test_loss:.4f} | \"\n",
        "        )\n",
        "\n",
        "      # Update results dictionary\n",
        "      results[\"train_loss\"].append(train_loss)\n",
        "      results[\"test_loss\"].append(test_loss)\n",
        "\n",
        "  # Return the filled results at the end of the epochs\n",
        "  return results"
      ],
      "metadata": {
        "id": "ukG4JoHKBsEt"
      },
      "execution_count": 15,
      "outputs": []
    },
    {
      "cell_type": "markdown",
      "source": [
        "#### Train Model"
      ],
      "metadata": {
        "id": "M5hGT6i4mHaS"
      }
    },
    {
      "cell_type": "code",
      "source": [
        "def train_model_on_feature_data(model,\n",
        "                                loss_fn,\n",
        "                                optimizer,\n",
        "                                epochs,\n",
        "                                stock_data_transformer: StockDataTransformer):\n",
        "  train_dataloader, test_dataloader = stock_data_transformer.get_dataloaders()\n",
        "  device = stock_data_transformer.device\n",
        "  results = train(model=model,\n",
        "                  train_dataloader=train_dataloader,\n",
        "                  test_dataloader=test_dataloader,\n",
        "                  loss_fn=loss_fn,\n",
        "                  optimizer=optimizer,\n",
        "                  epochs=epochs,\n",
        "                  device=device)\n",
        "  return results"
      ],
      "metadata": {
        "id": "i3_FDS45los3"
      },
      "execution_count": 16,
      "outputs": []
    },
    {
      "cell_type": "markdown",
      "source": [
        "#### Model Preds"
      ],
      "metadata": {
        "id": "JUme_IYhmv0u"
      }
    },
    {
      "cell_type": "code",
      "source": [
        "def plot_model_preds(model,\n",
        "                     stock_data_transformer: StockDataTransformer):\n",
        "  train_X, test_X = stock_data_transformer.train_X, stock_data_transformer.test_X\n",
        "  device = stock_data_transformer.device\n",
        "  stock_data_obj = stock_data_transformer.stock_data\n",
        "\n",
        "  train_preds, test_preds = get_model_preds(model, train_X, test_X, device)\n",
        "  train_preds, test_preds = stock_data_obj.get_scaled_data(train_preds, True), stock_data_obj.get_scaled_data(test_preds, True)\n",
        "\n",
        "  stock_data = stock_data_obj.get_original_stock_closes()\n",
        "  value_diff = len(stock_data) - (len(train_preds) + len(test_preds))\n",
        "  stock_data = stock_data[value_diff:]\n",
        "  cutoff_idx = len(train_preds)\n",
        "  plot_stock_predictions(stock_data[:cutoff_idx], stock_data[cutoff_idx:], train_preds, test_preds)"
      ],
      "metadata": {
        "id": "AyZhoi-lmucv"
      },
      "execution_count": 82,
      "outputs": []
    },
    {
      "cell_type": "markdown",
      "source": [
        "### Evaluating"
      ],
      "metadata": {
        "id": "yqbVFkgEFjxr"
      }
    },
    {
      "cell_type": "code",
      "source": [
        "# Get model predictions in numpy format suitable for plotting\n",
        "\n",
        "def get_model_preds(model, train_data, test_data, device=\"cpu\"):\n",
        "  with torch.inference_mode():\n",
        "    train_preds = model(torch.tensor(train_data, dtype=torch.float32).to(device)).squeeze(dim=1).cpu().detach().numpy()\n",
        "    test_preds = model(torch.tensor(test_data, dtype=torch.float32).to(device)).squeeze(dim=1).cpu().detach().numpy()\n",
        "\n",
        "    return train_preds, test_preds"
      ],
      "metadata": {
        "id": "wqi2SLy71GJl"
      },
      "execution_count": 18,
      "outputs": []
    },
    {
      "cell_type": "code",
      "source": [
        "# Create code to plot predictions\n",
        "import pandas as pd\n",
        "import matplotlib.pyplot as plt\n",
        "\n",
        "def plot_stock_predictions(train_data, test_data, train_preds, test_preds):\n",
        "  train_range = [i for i in range(len(train_data))]\n",
        "  test_range = [i for i in range(len(train_data), len(train_data) + len(test_data))]\n",
        "\n",
        "  plt.plot(train_range, train_data)\n",
        "  plt.plot(train_range, train_preds)\n",
        "  plt.plot(test_range, test_data)\n",
        "  plt.plot(test_range, test_preds)\n",
        "  plt.xlabel('Day')\n",
        "  plt.ylabel('Close')\n",
        "  plt.legend([\n",
        "      'Actual Training Values',\n",
        "      'Predicted Training Values',\n",
        "      'Actual Testing Values',\n",
        "      'Predicted Testing Values'\n",
        "  ])\n",
        "  plt.show()"
      ],
      "metadata": {
        "id": "mzrqsyhS0jS-"
      },
      "execution_count": 19,
      "outputs": []
    },
    {
      "cell_type": "markdown",
      "source": [
        "### Models"
      ],
      "metadata": {
        "id": "Mc590xiN0RNQ"
      }
    },
    {
      "cell_type": "code",
      "source": [
        "import torch\n",
        "from torch import nn\n",
        "\n",
        "# Setup a basic linear model\n",
        "class LinModel0(nn.Module):\n",
        "  def __init__(self, in_features, hidden_units, out_features):\n",
        "    super().__init__()\n",
        "    self.lin_layer = nn.Sequential(\n",
        "        nn.Linear(\n",
        "            in_features=in_features,\n",
        "            out_features=hidden_units\n",
        "        ),\n",
        "        nn.ReLU(),\n",
        "        nn.Linear(\n",
        "            in_features=hidden_units,\n",
        "            out_features=hidden_units\n",
        "        ),\n",
        "        nn.ReLU(),\n",
        "        nn.Linear(\n",
        "            in_features=hidden_units,\n",
        "            out_features=out_features\n",
        "        )\n",
        "    )\n",
        "\n",
        "  def forward(self, x):\n",
        "    return self.lin_layer(x)"
      ],
      "metadata": {
        "id": "beVxCf5oB9ka"
      },
      "execution_count": 20,
      "outputs": []
    },
    {
      "cell_type": "code",
      "source": [
        "import torch\n",
        "from torch import nn\n",
        "\n",
        "class LSTMModel(nn.Module):\n",
        "  def __init__(self, in_features, hidden_units, out_features, stacked_layer_count, device):\n",
        "    super().__init__()\n",
        "    self.hidden_units = hidden_units\n",
        "    self.stacked_layer_count = stacked_layer_count\n",
        "    self.lstm = nn.LSTM(input_size=in_features,\n",
        "                        hidden_size=hidden_units,\n",
        "                        num_layers=stacked_layer_count,\n",
        "                        batch_first=True)\n",
        "    self.fc = nn.Linear(in_features=hidden_units,\n",
        "                               out_features=out_features)\n",
        "    self.device = device\n",
        "\n",
        "  def forward(self, X):\n",
        "    batch_size = len(X)\n",
        "    # X = X.unsqueeze(dim=2)\n",
        "    h0 = torch.zeros(self.stacked_layer_count, batch_size, self.hidden_units).to(device)\n",
        "    c0 = torch.zeros(self.stacked_layer_count, batch_size, self.hidden_units).to(device)\n",
        "    out, _ = self.lstm(X, (h0, c0))\n",
        "    out = self.fc(out[:, -1, :])\n",
        "    return out"
      ],
      "metadata": {
        "id": "kfZFxgbmAlaI"
      },
      "execution_count": 21,
      "outputs": []
    },
    {
      "cell_type": "markdown",
      "source": [
        "## Model Eval Section"
      ],
      "metadata": {
        "id": "_VzGkGsr0azh"
      }
    },
    {
      "cell_type": "code",
      "source": [
        "# Reusable training code\n",
        "device = \"cuda\" if torch.cuda.is_available() else \"cpu\"\n",
        "print(device)\n",
        "\n",
        "loss_fn = nn.MSELoss()\n",
        "EPOCHS = 10\n",
        "\n",
        "LOOKBACK_INTERVAL = 7"
      ],
      "metadata": {
        "colab": {
          "base_uri": "https://localhost:8080/"
        },
        "id": "Pda34lI5pena",
        "outputId": "c136d498-498c-4ecf-bad6-3d76d99c3701"
      },
      "execution_count": 22,
      "outputs": [
        {
          "output_type": "stream",
          "name": "stdout",
          "text": [
            "cuda\n"
          ]
        }
      ]
    },
    {
      "cell_type": "code",
      "source": [
        "GoogleStockData = StockModelData(ticker=\"GOOGL\",\n",
        "                                start_date=\"12/04/2015\",\n",
        "                                end_date=\"12/04/2020\",\n",
        "                                index_as_date=True,\n",
        "                                interval=\"1d\",\n",
        "                                lookback_interval=LOOKBACK_INTERVAL,\n",
        "                                train_size_percentage=0.8,\n",
        "                                batch_size=32,\n",
        "                                device=device)"
      ],
      "metadata": {
        "id": "ZK20RVEvNyun"
      },
      "execution_count": 19,
      "outputs": []
    },
    {
      "cell_type": "code",
      "source": [
        "five_ma = MovingAverageDataFeature(5)\n",
        "twenty_ma = MovingAverageDataFeature(20)\n",
        "closing_price_feature = ClosingPriceDataFeature()\n",
        "# Make initial bare-bones feature array\n",
        "n = len(GoogleStockData.stock_data)\n",
        "features = [ [ [] for _ in range(12) ] for _ in range(12, n) ]\n",
        "five_ma.compute_feature(GoogleStockData.stock_data, features)\n",
        "twenty_ma.compute_feature(GoogleStockData.stock_data, features)\n",
        "closing_price_feature.compute_feature(GoogleStockData.stock_data, features)"
      ],
      "metadata": {
        "colab": {
          "base_uri": "https://localhost:8080/"
        },
        "id": "6qE90AkVdm5G",
        "outputId": "165b3fab-c1c8-44ba-be29-59033dc062ef"
      },
      "execution_count": 51,
      "outputs": [
        {
          "output_type": "stream",
          "name": "stdout",
          "text": [
            "Enough data! In order to work properly, there needs to be 5 intervals removed from the beginning of the feature data!\n",
            "Enough data! In order to work properly, there needs to be 20 intervals removed from the beginning of the feature data!\n",
            "Enough data! In order to work properly, there needs to be 12 intervals removed from the beginning of the feature data!\n"
          ]
        },
        {
          "output_type": "execute_result",
          "data": {
            "text/plain": [
              "12"
            ]
          },
          "metadata": {},
          "execution_count": 51
        }
      ]
    },
    {
      "cell_type": "code",
      "source": [
        "features[-2:]"
      ],
      "metadata": {
        "id": "8Ww1G09lfgx9"
      },
      "execution_count": null,
      "outputs": []
    },
    {
      "cell_type": "code",
      "source": [
        "model1 = LSTMModel(in_features=1,\n",
        "                   hidden_units=4,\n",
        "                   out_features=1,\n",
        "                   stacked_layer_count=1,\n",
        "                   device=device).to(device)\n",
        "optimizer1 = torch.optim.SGD(params=model1.parameters(),\n",
        "                            lr=0.1)"
      ],
      "metadata": {
        "id": "7ntssLpUxDXj"
      },
      "execution_count": null,
      "outputs": []
    },
    {
      "cell_type": "code",
      "source": [
        "GoogleStockData.train_model(model=model1,\n",
        "                            loss_fn=loss_fn,\n",
        "                            optimizer=optimizer1,\n",
        "                            epochs=50,\n",
        "                            device=device)\n",
        "GoogleStockData.plot_model_preds(model=model1)"
      ],
      "metadata": {
        "id": "ge1Yu57TasPS"
      },
      "execution_count": null,
      "outputs": []
    },
    {
      "cell_type": "code",
      "source": [
        "GoogleStockData.plot_model_preds(model=model1)\n",
        "res = GoogleStockData.get_model_preds_on_self(model1, 500)"
      ],
      "metadata": {
        "id": "7QK_zcFqiGDb"
      },
      "execution_count": null,
      "outputs": []
    },
    {
      "cell_type": "code",
      "source": [
        "PaycomStockData = StockModelData(ticker=\"PAYC\",\n",
        "                                 start_date=\"05/01/2018\",\n",
        "                                 end_date=\"10/28/2023\",\n",
        "                                 index_as_date=True,\n",
        "                                 interval=\"1d\",\n",
        "                                 lookback_interval=7,\n",
        "                                 train_size_percentage=0.8,\n",
        "                                 batch_size=32,\n",
        "                                 device=device)"
      ],
      "metadata": {
        "id": "30WAbeYUsooR"
      },
      "execution_count": null,
      "outputs": []
    },
    {
      "cell_type": "code",
      "source": [
        "paycomModel = LinModel0(in_features=7, hidden_units=10, out_features=1).to(device)\n",
        "paycomOptimizer = torch.optim.SGD(params=paycomModel.parameters(),\n",
        "                                 lr=0.1)"
      ],
      "metadata": {
        "id": "8noX4VnOxhbY"
      },
      "execution_count": null,
      "outputs": []
    },
    {
      "cell_type": "code",
      "source": [
        "PaycomStockData.train_model(model=paycomModel,\n",
        "                            loss_fn=loss_fn,\n",
        "                            optimizer=paycomOptimizer,\n",
        "                            epochs=100,\n",
        "                            device=device)\n",
        "PaycomStockData.plot_model_preds(model=paycomModel)"
      ],
      "metadata": {
        "id": "iAB0R6ehx7nj"
      },
      "execution_count": null,
      "outputs": []
    },
    {
      "cell_type": "code",
      "source": [
        "PaycomStockData.plot_model_preds(model=paycomModel)\n",
        "res = PaycomStockData.get_model_preds_on_self(paycomModel, 500)"
      ],
      "metadata": {
        "id": "euMgGIpRjTCD"
      },
      "execution_count": null,
      "outputs": []
    },
    {
      "cell_type": "code",
      "source": [
        "data = torch.randn(16, 14)  # Example data, adjust dimensions as needed\n",
        "\n",
        "# Reshape the data\n",
        "lookback_interval = 7  # Example, adjust as needed\n",
        "num_features_per_interval = 2  # Example, adjust as needed\n",
        "reshaped_data = data.view(-1, lookback_interval, num_features_per_interval)\n",
        "\n",
        "# Check the shape\n",
        "print(reshaped_data.shape)\n",
        "reshaped_data = reshaped_data.flatten(1, 2)\n",
        "print(reshaped_data.shape)"
      ],
      "metadata": {
        "id": "aOYIxcS93dMr",
        "colab": {
          "base_uri": "https://localhost:8080/"
        },
        "outputId": "3ce843a3-769e-440e-ef9c-ad56d9567da4"
      },
      "execution_count": null,
      "outputs": [
        {
          "output_type": "stream",
          "name": "stdout",
          "text": [
            "torch.Size([16, 7, 2])\n",
            "torch.Size([16, 14])\n"
          ]
        }
      ]
    },
    {
      "cell_type": "markdown",
      "source": [
        "# Model Eval V2"
      ],
      "metadata": {
        "id": "C9m2O68ToXH7"
      }
    },
    {
      "cell_type": "code",
      "source": [
        "# Get initial stock data\n",
        "GoogleStockData = StockData(ticker=\"GOOGL\",\n",
        "                            start_date=\"12/04/2009\",\n",
        "                            end_date=\"12/04/2022\",\n",
        "                            index_as_date=True,\n",
        "                            interval=\"1d\")"
      ],
      "metadata": {
        "id": "UKI7bvKdbRcr"
      },
      "execution_count": 68,
      "outputs": []
    },
    {
      "cell_type": "code",
      "source": [
        "# Get transformed stock data\n",
        "GoogleTransformedData = StockDataTransformer(stock_data=GoogleStockData,\n",
        "                                           feature_computators=[MovingAverageDataFeature(5),\n",
        "                                                                MovingAverageDataFeature(20),\n",
        "                                                                ClosingPriceDataFeature()],\n",
        "                                           lookback_interval=7,\n",
        "                                           train_size_percentage=0.8,\n",
        "                                           batch_size=32,\n",
        "                                           device=device)"
      ],
      "metadata": {
        "colab": {
          "base_uri": "https://localhost:8080/"
        },
        "id": "5S1I715LojfA",
        "outputId": "11257e17-d22f-4c01-a017-5d93de4c8944"
      },
      "execution_count": 84,
      "outputs": [
        {
          "output_type": "stream",
          "name": "stdout",
          "text": [
            "Enough data! In order to work properly, there needs to be 12 intervals removed from the beginning of the feature data! (MA)\n",
            "Returning 12\n",
            "Enough data! In order to work properly, there needs to be 27 intervals removed from the beginning of the feature data! (MA)\n",
            "Returning 27\n",
            "Enough data! In order to work properly, there needs to be 7 intervals removed from the beginning of the feature data! (CP)\n",
            "Test X Len: 649 | test y Len: 649\n"
          ]
        }
      ]
    },
    {
      "cell_type": "code",
      "source": [
        "test_LSTM_model = LSTMModel(in_features=3,\n",
        "                           hidden_units=4,\n",
        "                           out_features=1,\n",
        "                           stacked_layer_count=1,\n",
        "                           device=device).to(device)\n",
        "test_optimizer = torch.optim.SGD(params=test_LSTM_model.parameters(),\n",
        "                            lr=0.1)"
      ],
      "metadata": {
        "id": "_nzwqPXkolQW"
      },
      "execution_count": 85,
      "outputs": []
    },
    {
      "cell_type": "code",
      "source": [
        "res = train_model_on_feature_data(model=test_LSTM_model,\n",
        "                                  loss_fn=loss_fn,\n",
        "                                  optimizer=test_optimizer,\n",
        "                                  epochs=100,\n",
        "                                  stock_data_transformer=GoogleTransformedData)"
      ],
      "metadata": {
        "id": "symltofiq8JI"
      },
      "execution_count": null,
      "outputs": []
    },
    {
      "cell_type": "code",
      "source": [
        "plot_model_preds(model=test_LSTM_model,\n",
        "                 stock_data_transformer=GoogleTransformedData)"
      ],
      "metadata": {
        "colab": {
          "base_uri": "https://localhost:8080/",
          "height": 449
        },
        "id": "M0yBX3M7r1HD",
        "outputId": "ee0f7032-b3a2-42fb-c60a-3ea3800b3931"
      },
      "execution_count": 87,
      "outputs": [
        {
          "output_type": "display_data",
          "data": {
            "text/plain": [
              "<Figure size 640x480 with 1 Axes>"
            ],
            "image/png": "[encoded data removed]"
          },
          "metadata": {}
        }
      ]
    },
    {
      "cell_type": "code",
      "source": [],
      "metadata": {
        "id": "ZrddiyQCNcre"
      },
      "execution_count": null,
      "outputs": []
    }
  ]
}