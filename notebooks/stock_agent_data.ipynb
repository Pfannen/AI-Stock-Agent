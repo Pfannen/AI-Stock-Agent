{
  "nbformat": 4,
  "nbformat_minor": 0,
  "metadata": {
    "colab": {
      "provenance": [],
      "toc_visible": true,
      "gpuType": "T4",
      "authorship_tag": "ABX9TyMwL0EQZj4/BOc3lWGMwo3K",
      "include_colab_link": true
    },
    "kernelspec": {
      "name": "python3",
      "display_name": "Python 3"
    },
    "language_info": {
      "name": "python"
    },
    "accelerator": "GPU"
  },
  "cells": [
    {
      "cell_type": "markdown",
      "metadata": {
        "id": "view-in-github",
        "colab_type": "text"
      },
      "source": [
        "<a href=\"https://colab.research.google.com/github/Pfannen/AI-Stock-Agent/blob/main/notebooks/stock_agent_data.ipynb\" target=\"_parent\"><img src=\"https://colab.research.google.com/assets/colab-badge.svg\" alt=\"Open In Colab\"/></a>"
      ]
    },
    {
      "cell_type": "markdown",
      "source": [
        "## Test Section"
      ],
      "metadata": {
        "id": "N2-M5dZJ0Xkh"
      }
    },
    {
      "cell_type": "code",
      "execution_count": null,
      "metadata": {
        "id": "UAM_8l8dl6A2"
      },
      "outputs": [],
      "source": [
        "# Install required dependencies\n",
        "!pip install yahoo_fin\n",
        "!pip install requests_html"
      ]
    },
    {
      "cell_type": "code",
      "source": [
        "# Explore what's returned from yahoo_fin\n",
        "\n",
        "from yahoo_fin.stock_info import get_data\n",
        "\n",
        "amazon_daily = get_data(\n",
        "    ticker=\"AMZN\",\n",
        "    start_date=\"12/04/2020\",\n",
        "    end_date=\"12/04/2021\",\n",
        "    index_as_date=True,\n",
        "    interval=\"1d\"\n",
        ")"
      ],
      "metadata": {
        "id": "BJSHaKW8l9lZ"
      },
      "execution_count": 2,
      "outputs": []
    },
    {
      "cell_type": "code",
      "source": [
        "amazon_daily"
      ],
      "metadata": {
        "id": "bSJTvLD2mfCQ",
        "colab": {
          "base_uri": "https://localhost:8080/",
          "height": 424
        },
        "outputId": "de3bcc21-8116-4eb1-d82b-4b59036b652d"
      },
      "execution_count": 3,
      "outputs": [
        {
          "output_type": "execute_result",
          "data": {
            "text/plain": [
              "                  open        high         low       close    adjclose  \\\n",
              "2020-12-04  159.910507  159.910507  157.938004  158.128998  158.128998   \n",
              "2020-12-07  157.824005  159.037994  157.084503  157.899994  157.899994   \n",
              "2020-12-08  157.945007  159.206497  156.001007  158.864502  158.864502   \n",
              "2020-12-09  158.394501  158.721497  154.399994  155.210007  155.210007   \n",
              "2020-12-10  154.449493  157.104996  153.800003  155.074493  155.074493   \n",
              "...                ...         ...         ...         ...         ...   \n",
              "2021-11-29  177.382004  179.800003  176.574997  178.078506  178.078506   \n",
              "2021-11-30  178.175003  179.288498  174.600494  175.353500  175.353500   \n",
              "2021-12-01  177.250000  177.994003  172.080002  172.186005  172.186005   \n",
              "2021-12-02  173.000000  174.634995  171.187500  171.867996  171.867996   \n",
              "2021-12-03  172.750000  173.493500  166.929993  169.489502  169.489502   \n",
              "\n",
              "              volume ticker  \n",
              "2020-12-04  58272000   AMZN  \n",
              "2020-12-07  55026000   AMZN  \n",
              "2020-12-08  65726000   AMZN  \n",
              "2020-12-09  82016000   AMZN  \n",
              "2020-12-10  60604000   AMZN  \n",
              "...              ...    ...  \n",
              "2021-11-29  65312000   AMZN  \n",
              "2021-11-30  80022000   AMZN  \n",
              "2021-12-01  74916000   AMZN  \n",
              "2021-12-02  64726000   AMZN  \n",
              "2021-12-03  80712000   AMZN  \n",
              "\n",
              "[252 rows x 7 columns]"
            ],
            "text/html": [
              "\n",
              "  <div id=\"df-a2928c51-17e6-41c5-8f21-d4c6f4b2f3dc\" class=\"colab-df-container\">\n",
              "    <div>\n",
              "<style scoped>\n",
              "    .dataframe tbody tr th:only-of-type {\n",
              "        vertical-align: middle;\n",
              "    }\n",
              "\n",
              "    .dataframe tbody tr th {\n",
              "        vertical-align: top;\n",
              "    }\n",
              "\n",
              "    .dataframe thead th {\n",
              "        text-align: right;\n",
              "    }\n",
              "</style>\n",
              "<table border=\"1\" class=\"dataframe\">\n",
              "  <thead>\n",
              "    <tr style=\"text-align: right;\">\n",
              "      <th></th>\n",
              "      <th>open</th>\n",
              "      <th>high</th>\n",
              "      <th>low</th>\n",
              "      <th>close</th>\n",
              "      <th>adjclose</th>\n",
              "      <th>volume</th>\n",
              "      <th>ticker</th>\n",
              "    </tr>\n",
              "  </thead>\n",
              "  <tbody>\n",
              "    <tr>\n",
              "      <th>2020-12-04</th>\n",
              "      <td>159.910507</td>\n",
              "      <td>159.910507</td>\n",
              "      <td>157.938004</td>\n",
              "      <td>158.128998</td>\n",
              "      <td>158.128998</td>\n",
              "      <td>58272000</td>\n",
              "      <td>AMZN</td>\n",
              "    </tr>\n",
              "    <tr>\n",
              "      <th>2020-12-07</th>\n",
              "      <td>157.824005</td>\n",
              "      <td>159.037994</td>\n",
              "      <td>157.084503</td>\n",
              "      <td>157.899994</td>\n",
              "      <td>157.899994</td>\n",
              "      <td>55026000</td>\n",
              "      <td>AMZN</td>\n",
              "    </tr>\n",
              "    <tr>\n",
              "      <th>2020-12-08</th>\n",
              "      <td>157.945007</td>\n",
              "      <td>159.206497</td>\n",
              "      <td>156.001007</td>\n",
              "      <td>158.864502</td>\n",
              "      <td>158.864502</td>\n",
              "      <td>65726000</td>\n",
              "      <td>AMZN</td>\n",
              "    </tr>\n",
              "    <tr>\n",
              "      <th>2020-12-09</th>\n",
              "      <td>158.394501</td>\n",
              "      <td>158.721497</td>\n",
              "      <td>154.399994</td>\n",
              "      <td>155.210007</td>\n",
              "      <td>155.210007</td>\n",
              "      <td>82016000</td>\n",
              "      <td>AMZN</td>\n",
              "    </tr>\n",
              "    <tr>\n",
              "      <th>2020-12-10</th>\n",
              "      <td>154.449493</td>\n",
              "      <td>157.104996</td>\n",
              "      <td>153.800003</td>\n",
              "      <td>155.074493</td>\n",
              "      <td>155.074493</td>\n",
              "      <td>60604000</td>\n",
              "      <td>AMZN</td>\n",
              "    </tr>\n",
              "    <tr>\n",
              "      <th>...</th>\n",
              "      <td>...</td>\n",
              "      <td>...</td>\n",
              "      <td>...</td>\n",
              "      <td>...</td>\n",
              "      <td>...</td>\n",
              "      <td>...</td>\n",
              "      <td>...</td>\n",
              "    </tr>\n",
              "    <tr>\n",
              "      <th>2021-11-29</th>\n",
              "      <td>177.382004</td>\n",
              "      <td>179.800003</td>\n",
              "      <td>176.574997</td>\n",
              "      <td>178.078506</td>\n",
              "      <td>178.078506</td>\n",
              "      <td>65312000</td>\n",
              "      <td>AMZN</td>\n",
              "    </tr>\n",
              "    <tr>\n",
              "      <th>2021-11-30</th>\n",
              "      <td>178.175003</td>\n",
              "      <td>179.288498</td>\n",
              "      <td>174.600494</td>\n",
              "      <td>175.353500</td>\n",
              "      <td>175.353500</td>\n",
              "      <td>80022000</td>\n",
              "      <td>AMZN</td>\n",
              "    </tr>\n",
              "    <tr>\n",
              "      <th>2021-12-01</th>\n",
              "      <td>177.250000</td>\n",
              "      <td>177.994003</td>\n",
              "      <td>172.080002</td>\n",
              "      <td>172.186005</td>\n",
              "      <td>172.186005</td>\n",
              "      <td>74916000</td>\n",
              "      <td>AMZN</td>\n",
              "    </tr>\n",
              "    <tr>\n",
              "      <th>2021-12-02</th>\n",
              "      <td>173.000000</td>\n",
              "      <td>174.634995</td>\n",
              "      <td>171.187500</td>\n",
              "      <td>171.867996</td>\n",
              "      <td>171.867996</td>\n",
              "      <td>64726000</td>\n",
              "      <td>AMZN</td>\n",
              "    </tr>\n",
              "    <tr>\n",
              "      <th>2021-12-03</th>\n",
              "      <td>172.750000</td>\n",
              "      <td>173.493500</td>\n",
              "      <td>166.929993</td>\n",
              "      <td>169.489502</td>\n",
              "      <td>169.489502</td>\n",
              "      <td>80712000</td>\n",
              "      <td>AMZN</td>\n",
              "    </tr>\n",
              "  </tbody>\n",
              "</table>\n",
              "<p>252 rows × 7 columns</p>\n",
              "</div>\n",
              "    <div class=\"colab-df-buttons\">\n",
              "\n",
              "  <div class=\"colab-df-container\">\n",
              "    <button class=\"colab-df-convert\" onclick=\"convertToInteractive('df-a2928c51-17e6-41c5-8f21-d4c6f4b2f3dc')\"\n",
              "            title=\"Convert this dataframe to an interactive table.\"\n",
              "            style=\"display:none;\">\n",
              "\n",
              "  <svg xmlns=\"http://www.w3.org/2000/svg\" height=\"24px\" viewBox=\"0 -960 960 960\">\n",
              "    <path d=\"M120-120v-720h720v720H120Zm60-500h600v-160H180v160Zm220 220h160v-160H400v160Zm0 220h160v-160H400v160ZM180-400h160v-160H180v160Zm440 0h160v-160H620v160ZM180-180h160v-160H180v160Zm440 0h160v-160H620v160Z\"/>\n",
              "  </svg>\n",
              "    </button>\n",
              "\n",
              "  <style>\n",
              "    .colab-df-container {\n",
              "      display:flex;\n",
              "      gap: 12px;\n",
              "    }\n",
              "\n",
              "    .colab-df-convert {\n",
              "      background-color: #E8F0FE;\n",
              "      border: none;\n",
              "      border-radius: 50%;\n",
              "      cursor: pointer;\n",
              "      display: none;\n",
              "      fill: #1967D2;\n",
              "      height: 32px;\n",
              "      padding: 0 0 0 0;\n",
              "      width: 32px;\n",
              "    }\n",
              "\n",
              "    .colab-df-convert:hover {\n",
              "      background-color: #E2EBFA;\n",
              "      box-shadow: 0px 1px 2px rgba(60, 64, 67, 0.3), 0px 1px 3px 1px rgba(60, 64, 67, 0.15);\n",
              "      fill: #174EA6;\n",
              "    }\n",
              "\n",
              "    .colab-df-buttons div {\n",
              "      margin-bottom: 4px;\n",
              "    }\n",
              "\n",
              "    [theme=dark] .colab-df-convert {\n",
              "      background-color: #3B4455;\n",
              "      fill: #D2E3FC;\n",
              "    }\n",
              "\n",
              "    [theme=dark] .colab-df-convert:hover {\n",
              "      background-color: #434B5C;\n",
              "      box-shadow: 0px 1px 3px 1px rgba(0, 0, 0, 0.15);\n",
              "      filter: drop-shadow(0px 1px 2px rgba(0, 0, 0, 0.3));\n",
              "      fill: #FFFFFF;\n",
              "    }\n",
              "  </style>\n",
              "\n",
              "    <script>\n",
              "      const buttonEl =\n",
              "        document.querySelector('#df-a2928c51-17e6-41c5-8f21-d4c6f4b2f3dc button.colab-df-convert');\n",
              "      buttonEl.style.display =\n",
              "        google.colab.kernel.accessAllowed ? 'block' : 'none';\n",
              "\n",
              "      async function convertToInteractive(key) {\n",
              "        const element = document.querySelector('#df-a2928c51-17e6-41c5-8f21-d4c6f4b2f3dc');\n",
              "        const dataTable =\n",
              "          await google.colab.kernel.invokeFunction('convertToInteractive',\n",
              "                                                    [key], {});\n",
              "        if (!dataTable) return;\n",
              "\n",
              "        const docLinkHtml = 'Like what you see? Visit the ' +\n",
              "          '<a target=\"_blank\" href=https://colab.research.google.com/notebooks/data_table.ipynb>data table notebook</a>'\n",
              "          + ' to learn more about interactive tables.';\n",
              "        element.innerHTML = '';\n",
              "        dataTable['output_type'] = 'display_data';\n",
              "        await google.colab.output.renderOutput(dataTable, element);\n",
              "        const docLink = document.createElement('div');\n",
              "        docLink.innerHTML = docLinkHtml;\n",
              "        element.appendChild(docLink);\n",
              "      }\n",
              "    </script>\n",
              "  </div>\n",
              "\n",
              "\n",
              "<div id=\"df-5907af7d-3110-47ff-b907-d6aad815890c\">\n",
              "  <button class=\"colab-df-quickchart\" onclick=\"quickchart('df-5907af7d-3110-47ff-b907-d6aad815890c')\"\n",
              "            title=\"Suggest charts.\"\n",
              "            style=\"display:none;\">\n",
              "\n",
              "<svg xmlns=\"http://www.w3.org/2000/svg\" height=\"24px\"viewBox=\"0 0 24 24\"\n",
              "     width=\"24px\">\n",
              "    <g>\n",
              "        <path d=\"M19 3H5c-1.1 0-2 .9-2 2v14c0 1.1.9 2 2 2h14c1.1 0 2-.9 2-2V5c0-1.1-.9-2-2-2zM9 17H7v-7h2v7zm4 0h-2V7h2v10zm4 0h-2v-4h2v4z\"/>\n",
              "    </g>\n",
              "</svg>\n",
              "  </button>\n",
              "\n",
              "<style>\n",
              "  .colab-df-quickchart {\n",
              "      --bg-color: #E8F0FE;\n",
              "      --fill-color: #1967D2;\n",
              "      --hover-bg-color: #E2EBFA;\n",
              "      --hover-fill-color: #174EA6;\n",
              "      --disabled-fill-color: #AAA;\n",
              "      --disabled-bg-color: #DDD;\n",
              "  }\n",
              "\n",
              "  [theme=dark] .colab-df-quickchart {\n",
              "      --bg-color: #3B4455;\n",
              "      --fill-color: #D2E3FC;\n",
              "      --hover-bg-color: #434B5C;\n",
              "      --hover-fill-color: #FFFFFF;\n",
              "      --disabled-bg-color: #3B4455;\n",
              "      --disabled-fill-color: #666;\n",
              "  }\n",
              "\n",
              "  .colab-df-quickchart {\n",
              "    background-color: var(--bg-color);\n",
              "    border: none;\n",
              "    border-radius: 50%;\n",
              "    cursor: pointer;\n",
              "    display: none;\n",
              "    fill: var(--fill-color);\n",
              "    height: 32px;\n",
              "    padding: 0;\n",
              "    width: 32px;\n",
              "  }\n",
              "\n",
              "  .colab-df-quickchart:hover {\n",
              "    background-color: var(--hover-bg-color);\n",
              "    box-shadow: 0 1px 2px rgba(60, 64, 67, 0.3), 0 1px 3px 1px rgba(60, 64, 67, 0.15);\n",
              "    fill: var(--button-hover-fill-color);\n",
              "  }\n",
              "\n",
              "  .colab-df-quickchart-complete:disabled,\n",
              "  .colab-df-quickchart-complete:disabled:hover {\n",
              "    background-color: var(--disabled-bg-color);\n",
              "    fill: var(--disabled-fill-color);\n",
              "    box-shadow: none;\n",
              "  }\n",
              "\n",
              "  .colab-df-spinner {\n",
              "    border: 2px solid var(--fill-color);\n",
              "    border-color: transparent;\n",
              "    border-bottom-color: var(--fill-color);\n",
              "    animation:\n",
              "      spin 1s steps(1) infinite;\n",
              "  }\n",
              "\n",
              "  @keyframes spin {\n",
              "    0% {\n",
              "      border-color: transparent;\n",
              "      border-bottom-color: var(--fill-color);\n",
              "      border-left-color: var(--fill-color);\n",
              "    }\n",
              "    20% {\n",
              "      border-color: transparent;\n",
              "      border-left-color: var(--fill-color);\n",
              "      border-top-color: var(--fill-color);\n",
              "    }\n",
              "    30% {\n",
              "      border-color: transparent;\n",
              "      border-left-color: var(--fill-color);\n",
              "      border-top-color: var(--fill-color);\n",
              "      border-right-color: var(--fill-color);\n",
              "    }\n",
              "    40% {\n",
              "      border-color: transparent;\n",
              "      border-right-color: var(--fill-color);\n",
              "      border-top-color: var(--fill-color);\n",
              "    }\n",
              "    60% {\n",
              "      border-color: transparent;\n",
              "      border-right-color: var(--fill-color);\n",
              "    }\n",
              "    80% {\n",
              "      border-color: transparent;\n",
              "      border-right-color: var(--fill-color);\n",
              "      border-bottom-color: var(--fill-color);\n",
              "    }\n",
              "    90% {\n",
              "      border-color: transparent;\n",
              "      border-bottom-color: var(--fill-color);\n",
              "    }\n",
              "  }\n",
              "</style>\n",
              "\n",
              "  <script>\n",
              "    async function quickchart(key) {\n",
              "      const quickchartButtonEl =\n",
              "        document.querySelector('#' + key + ' button');\n",
              "      quickchartButtonEl.disabled = true;  // To prevent multiple clicks.\n",
              "      quickchartButtonEl.classList.add('colab-df-spinner');\n",
              "      try {\n",
              "        const charts = await google.colab.kernel.invokeFunction(\n",
              "            'suggestCharts', [key], {});\n",
              "      } catch (error) {\n",
              "        console.error('Error during call to suggestCharts:', error);\n",
              "      }\n",
              "      quickchartButtonEl.classList.remove('colab-df-spinner');\n",
              "      quickchartButtonEl.classList.add('colab-df-quickchart-complete');\n",
              "    }\n",
              "    (() => {\n",
              "      let quickchartButtonEl =\n",
              "        document.querySelector('#df-5907af7d-3110-47ff-b907-d6aad815890c button');\n",
              "      quickchartButtonEl.style.display =\n",
              "        google.colab.kernel.accessAllowed ? 'block' : 'none';\n",
              "    })();\n",
              "  </script>\n",
              "</div>\n",
              "    </div>\n",
              "  </div>\n"
            ]
          },
          "metadata": {},
          "execution_count": 3
        }
      ]
    },
    {
      "cell_type": "code",
      "source": [
        "# Make an array that stores tuples -> last 7 day closing prices, current day's closing price\n",
        "\n",
        "LOOKBACK_INTERVAL = 7\n",
        "amazon_model_data = []\n",
        "\n",
        "# We need to loop through all of amazon_daily, grab previous 7 entries and current entry\n",
        "for i in range(LOOKBACK_INTERVAL, len(amazon_daily)):\n",
        "  current_close = amazon_daily['close'][i]\n",
        "  previous_closes = amazon_daily['close'][i-LOOKBACK_INTERVAL:i]\n",
        "  input_data_with_label = (previous_closes, current_close)\n",
        "  amazon_model_data.append(input_data_with_label)\n",
        "\n",
        "amazon_model_data[0]"
      ],
      "metadata": {
        "id": "KW7avxGsmgOX",
        "colab": {
          "base_uri": "https://localhost:8080/"
        },
        "outputId": "8f41a698-3370-4ae7-f652-ec331114469f"
      },
      "execution_count": 4,
      "outputs": [
        {
          "output_type": "execute_result",
          "data": {
            "text/plain": [
              "(2020-12-04    158.128998\n",
              " 2020-12-07    157.899994\n",
              " 2020-12-08    158.864502\n",
              " 2020-12-09    155.210007\n",
              " 2020-12-10    155.074493\n",
              " 2020-12-11    155.820999\n",
              " 2020-12-14    157.848495\n",
              " Name: close, dtype: float64,\n",
              " 158.25599670410156)"
            ]
          },
          "metadata": {},
          "execution_count": 4
        }
      ]
    },
    {
      "cell_type": "code",
      "source": [
        "import numpy as np\n",
        "from sklearn.preprocessing import MinMaxScaler\n",
        "scaler = MinMaxScaler()\n",
        "\n",
        "data = np.array(amazon_daily['close']).reshape(-1, 1)\n",
        "scaler.fit(data)\n",
        "data = scaler.transform(data).reshape(-1)\n",
        "data = np.array(data).reshape(-1, 1)\n",
        "scaler.inverse_transform(data).reshape(-1)\n",
        "amazon_daily['close'] = data"
      ],
      "metadata": {
        "id": "JQhbJBmMAvHI"
      },
      "execution_count": 5,
      "outputs": []
    },
    {
      "cell_type": "markdown",
      "source": [
        "## Modular Code Section"
      ],
      "metadata": {
        "id": "BvIPxQJa0VYF"
      }
    },
    {
      "cell_type": "markdown",
      "source": [
        "### Classes"
      ],
      "metadata": {
        "id": "Jfa9FAnoFX0u"
      }
    },
    {
      "cell_type": "markdown",
      "source": [
        "#### Dataset"
      ],
      "metadata": {
        "id": "WplxJs7pT85t"
      }
    },
    {
      "cell_type": "code",
      "source": [
        "import torch\n",
        "from torch.utils.data import Dataset, DataLoader\n",
        "\n",
        "class StockDataset(Dataset):\n",
        "  def __init__(self, stock_data):\n",
        "    self.data = stock_data\n",
        "\n",
        "  def __len__(self):\n",
        "    return len(self.data[1])\n",
        "\n",
        "  def __getitem__(self, index):\n",
        "    input = torch.tensor(self.data[0][index], dtype=torch.float32)\n",
        "    label = torch.tensor(self.data[1][index], dtype=torch.float32)\n",
        "    return input, label"
      ],
      "metadata": {
        "id": "ZtZnhGaC71-R"
      },
      "execution_count": 9,
      "outputs": []
    },
    {
      "cell_type": "markdown",
      "source": [
        "#### DataFeature"
      ],
      "metadata": {
        "id": "WXntiVeBUflM"
      }
    },
    {
      "cell_type": "code",
      "source": [
        "from abc import abstractmethod\n",
        "import collections\n",
        "from collections import deque\n",
        "# Let's create an abstract class where all classes that want to add a feature to the data must inherit\n",
        "class DataFeature():\n",
        "  @abstractmethod\n",
        "  def compute_feature(self, data, feature_data):\n",
        "    \"\"\"\n",
        "    Computes a type of feature that gets added to each input given to a time-series predicting model\n",
        "\n",
        "    Args:\n",
        "      data: A list of closing prices\n",
        "      feature_data: An array of the shape [intervals_predicting, lookback_interval, feature_count_per_interval]\n",
        "\n",
        "    Returns:\n",
        "      Modifies 'feature_data' directly\n",
        "  \"\"\"\n",
        "  @abstractmethod\n",
        "  def compute_linear_feature(self, stock_data_frame):\n",
        "    \"\"\"\n",
        "    Computes a type of feature that gets added to stock_data_frame\n",
        "\n",
        "    Args:\n",
        "      stock_data_frame: A data frame consisting of at least 'close'\n",
        "\n",
        "    Returns:\n",
        "      Modifies 'feature_data' directly\n",
        "  \"\"\""
      ],
      "metadata": {
        "id": "ILpvQupnUpQI"
      },
      "execution_count": 16,
      "outputs": []
    },
    {
      "cell_type": "markdown",
      "source": [
        "##### Moving Average"
      ],
      "metadata": {
        "id": "uposuAGkM3EY"
      }
    },
    {
      "cell_type": "code",
      "source": [
        "class MovingAverageDataFeature(DataFeature):\n",
        "  def __init__(self, moving_average_period):\n",
        "    self.moving_average_period = moving_average_period\n",
        "\n",
        "  def compute_feature(self, data, feature_data):\n",
        "    # Use n for a shorter variable name\n",
        "    n = self.moving_average_period\n",
        "    lookback_count = len(feature_data[0])\n",
        "    min_data_length = n + lookback_count\n",
        "    if len(data) < min_data_length:\n",
        "      print(f\"There is not enough data! Need atleast {min_data_length} data points, but only got {len(data)}! (MA)\")\n",
        "      return\n",
        "    else:\n",
        "      print(f\"Enough data! In order to work properly, there needs to be {n + lookback_count} intervals removed from the beginning of the feature data! (MA)\")\n",
        "\n",
        "    data = data['close']\n",
        "    # For a moving average, we need to lookback moving_average_period values to get the current interval's MA\n",
        "    # We use a deque for efficent removal from the left (could use a queue)\n",
        "    cur_moving_average = deque()\n",
        "    # Keep track of the current sum and current index\n",
        "    cur_sum = 0\n",
        "    cur_idx = 0\n",
        "\n",
        "    def compute_moving_average_step(deduct = True):\n",
        "      nonlocal cur_idx, cur_sum, data, cur_moving_average\n",
        "      if cur_idx < len(data):\n",
        "        value = data[cur_idx]\n",
        "        if deduct:\n",
        "          cur_sum -= cur_moving_average.popleft()\n",
        "        cur_sum += value\n",
        "        cur_idx += 1\n",
        "        cur_moving_average.append(value)\n",
        "      else:\n",
        "        print(f\"Index {cur_idx} is out of bounds for data of length {len(data)} (MA)\")\n",
        "\n",
        "    # Calculate the first moving average data point\n",
        "    for _ in range(n):\n",
        "      compute_moving_average_step(False)\n",
        "\n",
        "    # cur_sum will store the moving average for the moving_average_period's interval (we will have to start adding at this offset)\n",
        "    # let's fill up the first set of features with their MAs, then we can easily reuse the previous MAs for the next set of features\n",
        "    initial_feature_set = feature_data[n + lookback_count]\n",
        "    # The length of the feature set should be 'lookback_count'\n",
        "    for i in range(len(initial_feature_set)):\n",
        "      initial_feature_set[i].append(cur_sum / n)\n",
        "      compute_moving_average_step()\n",
        "\n",
        "    for i in range(n + lookback_count + 1, len(feature_data)):\n",
        "      feature_set = feature_data[i]\n",
        "      prev_feature_set = feature_data[i-1]\n",
        "      for j in range(len(feature_set)-1):\n",
        "        feature_set[j].append(prev_feature_set[j+1][-1])\n",
        "      feature_set[-1].append(cur_sum / n)\n",
        "      compute_moving_average_step()\n",
        "\n",
        "    print(f\"Returning {n + lookback_count}\")\n",
        "    return n + lookback_count\n",
        "\n",
        "  def compute_linear_feature(self, data_frame):\n",
        "    closing_prices = data_frame['close']\n",
        "    n = self.moving_average_period\n",
        "\n",
        "    # For a moving average, we need to lookback moving_average_period values to get the current interval's MA\n",
        "    # We use a deque for efficent removal from the left (could use a queue)\n",
        "    cur_moving_average = deque()\n",
        "    # Keep track of the current sum and current index\n",
        "    cur_sum = 0\n",
        "    cur_idx = 0\n",
        "\n",
        "    def compute_moving_average_step(deduct = True):\n",
        "      nonlocal cur_idx, cur_sum, closing_prices, cur_moving_average\n",
        "      if cur_idx < len(closing_prices):\n",
        "        value = closing_prices[cur_idx]\n",
        "        if deduct:\n",
        "          cur_sum -= cur_moving_average.popleft()\n",
        "        cur_sum += value\n",
        "        cur_idx += 1\n",
        "        cur_moving_average.append(value)\n",
        "      else:\n",
        "        print(f\"Index {cur_idx} is out of bounds for data of length {len(closing_prices)} (MA)\")\n",
        "\n",
        "    # Calculate the first moving average data point\n",
        "    for _ in range(n):\n",
        "      compute_moving_average_step(False)\n",
        "\n",
        "    res = [0] * len(closing_prices)\n",
        "    for i in range(n, len(res)):\n",
        "      res[i] = cur_sum / n\n",
        "      compute_moving_average_step()\n",
        "    data_frame[\"{}_ma\".format(n)] = res\n",
        "\n",
        "    return n\n"
      ],
      "metadata": {
        "id": "OqtOzTl6M2GH"
      },
      "execution_count": 17,
      "outputs": []
    },
    {
      "cell_type": "markdown",
      "source": [
        "##### Lookback Closing Price"
      ],
      "metadata": {
        "id": "F-i4cofyM73k"
      }
    },
    {
      "cell_type": "code",
      "source": [
        "class ClosingPriceDataFeature(DataFeature):\n",
        "  def compute_feature(self, data, feature_data):\n",
        "    lookback_count = len(feature_data[0])\n",
        "\n",
        "    if len(data) < lookback_count:\n",
        "      print(f\"There is not enough data! Need atleast {lookback_count} data points, but only got {len(data)}! (CP)\")\n",
        "      return\n",
        "    else:\n",
        "      print(f\"Enough data! In order to work properly, there needs to be {lookback_count} intervals removed from the beginning of the feature data! (CP)\")\n",
        "\n",
        "    data = data['close']\n",
        "\n",
        "    cur_idx = 0\n",
        "    initial_feature_set = feature_data[lookback_count]\n",
        "    for i in range(lookback_count):\n",
        "      initial_feature_set[i].append(data[cur_idx])\n",
        "      cur_idx += 1\n",
        "\n",
        "    for i in range(lookback_count+1, len(feature_data)):\n",
        "      feature_set = feature_data[i]\n",
        "      prev_feature_set = feature_data[i-1]\n",
        "      for j in range(lookback_count-1):\n",
        "        feature_set[j].append(prev_feature_set[j+1][-1])\n",
        "      feature_set[-1].append(data[cur_idx])\n",
        "      cur_idx += 1\n",
        "\n",
        "    return lookback_count\n",
        "\n",
        "  def compute_linear_feature(self, stock_data_frame):\n",
        "    # Do nothing for now, 'closing' is already included in stock_data_frame\n",
        "    return 0"
      ],
      "metadata": {
        "id": "GR6Ar5w-NDdk"
      },
      "execution_count": 18,
      "outputs": []
    },
    {
      "cell_type": "markdown",
      "source": [
        "##### Volume"
      ],
      "metadata": {
        "id": "dB9sz_hGQI4_"
      }
    },
    {
      "cell_type": "code",
      "source": [
        "class VolumeDataFeature(DataFeature):\n",
        "  def compute_feature(self, data, feature_data):\n",
        "    lookback_count = len(feature_data[0])\n",
        "    if len(data) < lookback_count:\n",
        "      print(f\"There is not enough data! Need atleast {lookback_count} data points, but only got {len(data)}! (CP)\")\n",
        "      return\n",
        "    else:\n",
        "      print(f\"Enough data! In order to work properly, there needs to be {lookback_count} intervals removed from the beginning of the feature data! (CP)\")\n",
        "\n",
        "    volume_data = data['volume']\n",
        "\n",
        "    cur_idx = 0\n",
        "    initial_feature_set = feature_data[lookback_count]\n",
        "    for i in range(lookback_count):\n",
        "      initial_feature_set[i].append(volume_data[cur_idx])\n",
        "      cur_idx += 1\n",
        "\n",
        "    for i in range(lookback_count+1, len(feature_data)):\n",
        "      feature_set = feature_data[i]\n",
        "      prev_feature_set = feature_data[i-1]\n",
        "      for j in range(lookback_count-1):\n",
        "        feature_set[j].append(prev_feature_set[j+1][-1])\n",
        "      feature_set[-1].append(volume_data[cur_idx])\n",
        "      cur_idx += 1\n",
        "\n",
        "    return lookback_count\n",
        "\n",
        "  def compute_linear_feature(self, stock_data_frame):\n",
        "    # Do nothing for now, 'volume' is already included in stock_data_frame\n",
        "    return 0"
      ],
      "metadata": {
        "id": "DvUZJsRlQLH7"
      },
      "execution_count": 19,
      "outputs": []
    },
    {
      "cell_type": "markdown",
      "source": [
        "#### StockData"
      ],
      "metadata": {
        "id": "MZC-URjjcd2B"
      }
    },
    {
      "cell_type": "code",
      "source": [
        "class StockData():\n",
        "  def __init__(self,\n",
        "               ticker: str,\n",
        "               start_date: str,\n",
        "               end_date: str,\n",
        "               index_as_date: bool,\n",
        "               interval: str):\n",
        "    self.ticker = ticker\n",
        "    self.start_date = start_date\n",
        "    self.end_date = end_date\n",
        "    self.index_as_date = index_as_date\n",
        "    self.interval = interval\n",
        "    self.stock_data = get_stock_data_frame(ticker,\n",
        "                                          start_date,\n",
        "                                          end_date,\n",
        "                                          index_as_date,\n",
        "                                          interval)\n",
        "    self.scaler = get_scaler_for_data(self.stock_data['close'])\n",
        "    self.original_stock_closes = self.stock_data['close'][:]\n",
        "    self.stock_data['close'] = self.get_scaled_stock_data()\n",
        "    volume_scaler = get_scaler_for_data(self.stock_data['volume'])\n",
        "    self.stock_data['volume'] = apply_scaler_to_data(self.stock_data['volume'], volume_scaler, False)\n",
        "\n",
        "  def get_stock_data(self):\n",
        "    return self.stock_data\n",
        "\n",
        "  def get_original_stock_closes(self):\n",
        "    return self.original_stock_closes\n",
        "\n",
        "  def get_scaled_stock_data(self, inverse_transform = False):\n",
        "    return apply_scaler_to_data(self.stock_data['close'], self.scaler, inverse_transform)\n",
        "\n",
        "  def get_scaled_data(self, data, inverse_transform = False):\n",
        "    return apply_scaler_to_data(data, self.scaler, inverse_transform)"
      ],
      "metadata": {
        "id": "DzzGnbhibeha"
      },
      "execution_count": 20,
      "outputs": []
    },
    {
      "cell_type": "markdown",
      "source": [
        "#### StockDataTransformer"
      ],
      "metadata": {
        "id": "DpIzSAP3dpfg"
      }
    },
    {
      "cell_type": "code",
      "source": [
        "from typing import Dict, List, Tuple\n",
        "\n",
        "class StockDataTransformer():\n",
        "  def __init__(self,\n",
        "               stock_data: StockData,\n",
        "               feature_computators: List[DataFeature],\n",
        "               lookback_interval: int,\n",
        "               train_size_percentage: float,\n",
        "               batch_size: int,\n",
        "               device: str):\n",
        "    self.stock_data = stock_data\n",
        "    self.feature_computators = feature_computators\n",
        "    self.lookback_interval = lookback_interval\n",
        "    self.train_size_percentage = train_size_percentage\n",
        "    self.batch_size = batch_size\n",
        "    self.device = device\n",
        "\n",
        "    input_data, labels = get_feature_data(data=stock_data.get_stock_data(),\n",
        "                                          lookback_interval=lookback_interval,\n",
        "                                          data_features=feature_computators)\n",
        "    train_X, train_y, test_X, test_y = split_train_test(input_data=input_data,\n",
        "                                                        labels=labels,\n",
        "                                                        train_size_percentage=train_size_percentage)\n",
        "    self.train_X = train_X\n",
        "    self.train_y = train_y\n",
        "    self.test_X = test_X\n",
        "    self.test_y = test_y\n",
        "    print(f\"Test X Len: {len(test_X)} | test y Len: {len(test_y)}\")\n",
        "\n",
        "    train_dataset, test_dataset = StockDataset(stock_data=[train_X, train_y]), StockDataset(stock_data=[test_X, test_y])\n",
        "    self.train_dataloader = DataLoader(dataset=train_dataset,\n",
        "                                       batch_size=batch_size,\n",
        "                                       shuffle=False,\n",
        "                                       num_workers=1)\n",
        "    self.test_dataloader = DataLoader(dataset=test_dataset,\n",
        "                                      batch_size=batch_size,\n",
        "                                      shuffle=False,\n",
        "                                      num_workers=1)\n",
        "\n",
        "  def get_dataloaders(self):\n",
        "    return self.train_dataloader, self.test_dataloader\n"
      ],
      "metadata": {
        "id": "oMJ50GWUc2nW"
      },
      "execution_count": 22,
      "outputs": []
    },
    {
      "cell_type": "markdown",
      "source": [
        "### Data Retrieval"
      ],
      "metadata": {
        "id": "si2k9B6BFZ6l"
      }
    },
    {
      "cell_type": "markdown",
      "source": [
        "#### Stock Data"
      ],
      "metadata": {
        "id": "KqL9-uznyMs5"
      }
    },
    {
      "cell_type": "code",
      "source": [
        "# Functionize everything\n",
        "# Step 1: Get data from yahoo_fin.stock\n",
        "# Step 2: Create a scaler for the data and apply it\n",
        "# Step 3: Split data into a tuple -> ([num_samples, lookback_interval, 1], [num_samples])\n",
        "# Step 4: Create a data loader for train and test data\n",
        "\n",
        "from yahoo_fin.stock_info import get_data\n",
        "import numpy as np\n",
        "from pandas import DataFrame\n",
        "import math\n",
        "import numpy\n",
        "from sklearn.preprocessing import MinMaxScaler\n",
        "from typing import Dict, List, Tuple\n",
        "\n",
        "def get_stock_data(ticker: str,\n",
        "                  start_date: str,\n",
        "                  end_date: str,\n",
        "                  index_as_date: bool,\n",
        "                  interval: str):\n",
        "  stock_data = get_data(ticker, start_date, end_date, index_as_date, interval)\n",
        "  stock_close_data = stock_data['close']\n",
        "  return stock_close_data\n",
        "\n",
        "def get_stock_data_frame(ticker: str,\n",
        "                         start_date: str,\n",
        "                         end_date: str,\n",
        "                         index_as_date: bool,\n",
        "                         interval: str):\n",
        "  return get_data(ticker, start_date, end_date, index_as_date, interval)\n",
        "\n",
        "def split_train_test(input_data, labels, train_size_percentage):\n",
        "  last_train_idx = math.floor(len(labels) * train_size_percentage)\n",
        "\n",
        "  train_data = input_data[:last_train_idx]\n",
        "  train_labels = labels[:last_train_idx]\n",
        "  test_data = input_data[last_train_idx:]\n",
        "  test_labels = labels[last_train_idx:]\n",
        "\n",
        "  return train_data, train_labels, test_data, test_labels"
      ],
      "metadata": {
        "id": "ZhlHoN8Xn3HH"
      },
      "execution_count": 23,
      "outputs": []
    },
    {
      "cell_type": "markdown",
      "source": [
        "#### Computing Features"
      ],
      "metadata": {
        "id": "zcG-ECmmyGbJ"
      }
    },
    {
      "cell_type": "code",
      "source": [
        "def generate_input_data(stock_data, lookback_interval):\n",
        "  model_data = []\n",
        "  model_labels = []\n",
        "\n",
        "  for i in range(lookback_interval, len(stock_data)):\n",
        "    current_close_price = stock_data[i]\n",
        "    previous_closes = stock_data[i-lookback_interval:i]\n",
        "    model_data.append(previous_closes)\n",
        "    model_labels.append(current_close_price)\n",
        "\n",
        "  return model_data, model_labels\n",
        "\n",
        "def get_feature_data(data, lookback_interval, data_features: List[DataFeature]):\n",
        "  feature_data = [ [ [] for _ in range(lookback_interval) ] for _ in range(len(data)) ]\n",
        "  #features = [ [ [] for _ in range(12) ] for _ in range(12, n) ]\n",
        "  model_labels = data['close'][:]\n",
        "\n",
        "  removal_count = 0\n",
        "  for data_feature in data_features:\n",
        "    removal_count = max(removal_count, data_feature.compute_feature(data, feature_data))\n",
        "\n",
        "  return feature_data[removal_count:], model_labels[removal_count:]\n",
        "\n",
        "def add_features_to_data_frame(stock_data_frame, data_features: List[DataFeature]):\n",
        "  cutoff = 0\n",
        "  for feature in data_features:\n",
        "    cutoff = max(cutoff, feature.compute_linear_feature(stock_data_frame))\n",
        "  return cutoff"
      ],
      "metadata": {
        "id": "2Z9ZcUkXyIBi"
      },
      "execution_count": 24,
      "outputs": []
    },
    {
      "cell_type": "markdown",
      "source": [
        "#### Scalers"
      ],
      "metadata": {
        "id": "4A61XNTjxa74"
      }
    },
    {
      "cell_type": "code",
      "source": [
        "def get_scaler_for_data(stock_data):\n",
        "  scaler = MinMaxScaler()\n",
        "  stock_data = np.array(stock_data).reshape(-1, 1)\n",
        "  scaler.fit(stock_data)\n",
        "  return scaler\n",
        "\n",
        "def apply_scaler_to_data(data, scaler, inverse=False):\n",
        "  data = np.array(data).reshape(-1, 1)\n",
        "  if inverse:\n",
        "    data = scaler.inverse_transform(data).reshape(-1)\n",
        "  else:\n",
        "    data = scaler.transform(data).reshape(-1)\n",
        "  return data"
      ],
      "metadata": {
        "id": "TY9gv1KtxfUG"
      },
      "execution_count": 25,
      "outputs": []
    },
    {
      "cell_type": "code",
      "source": [
        "def get_trainable_data_from_ticker(ticker: str,\n",
        "                                   start_date: str,\n",
        "                                   end_date: str,\n",
        "                                   index_as_date: bool,\n",
        "                                   interval: str,\n",
        "                                   lookback_interval:int,\n",
        "                                   train_size_percentage: float,\n",
        "                                   batch_size: int,\n",
        "                                   num_workers: int):\n",
        "  stock_data = get_stock_data(ticker,\n",
        "                              start_date,\n",
        "                              end_date,\n",
        "                              index_as_date,\n",
        "                              interval)\n",
        "  scaler = get_scaler_for_data(stock_data)\n",
        "  scaled_stock_data = apply_scaler_to_data(stock_data, scaler)\n",
        "  input_data, labels = generate_input_data(scaled_stock_data, lookback_interval)\n",
        "  train_X, train_y, test_X, test_y = split_train_test(input_data, labels, train_size_percentage)\n",
        "\n",
        "  train_dataset, test_dataset = StockDataset(stock_data=[train_X, train_y]), StockDataset(stock_data=[test_X, test_y])\n",
        "\n",
        "  train_dataloader = DataLoader(dataset=train_dataset,\n",
        "                                batch_size=batch_size,\n",
        "                                shuffle=False,\n",
        "                                num_workers=num_workers)\n",
        "  test_dataloader = DataLoader(dataset=test_dataset,\n",
        "                               batch_size=batch_size,\n",
        "                               shuffle=False,\n",
        "                               num_workers=num_workers)\n",
        "\n",
        "  return train_dataloader, test_dataloader, stock_data, train_X, train_y, test_X, test_y, scaler"
      ],
      "metadata": {
        "id": "BFbEULGhFd7Q"
      },
      "execution_count": 26,
      "outputs": []
    },
    {
      "cell_type": "markdown",
      "source": [
        "### Train"
      ],
      "metadata": {
        "id": "gWIpNk8SFgd2"
      }
    },
    {
      "cell_type": "code",
      "source": [
        "\"\"\"\n",
        "Contains functions for training and testing a PyTorch model.\n",
        "\"\"\"\n",
        "from typing import Dict, List, Tuple\n",
        "\n",
        "import torch\n",
        "from tqdm.auto import tqdm\n",
        "\n",
        "def train_step(model: torch.nn.Module,\n",
        "               dataloader: torch.utils.data.DataLoader,\n",
        "               loss_fn: torch.nn.Module,\n",
        "               optimizer: torch.optim.Optimizer,\n",
        "               device: torch.device) -> Tuple[float, float]:\n",
        "  \"\"\"Trains a PyTorch model for a single epoch.\n",
        "\n",
        "  Turns a target PyTorch model to training mode and then\n",
        "  runs through all of the required training steps (forward\n",
        "  pass, loss calculation, optimizer step).\n",
        "\n",
        "  Args:\n",
        "    model: A PyTorch model to be trained.\n",
        "    dataloader: A DataLoader instance for the model to be trained on.\n",
        "    loss_fn: A PyTorch loss function to minimize.\n",
        "    optimizer: A PyTorch optimizer to help minimize the loss function.\n",
        "    device: A target device to compute on (e.g. \"cuda\" or \"cpu\").\n",
        "\n",
        "  Returns:\n",
        "    A tuple of training loss and training accuracy metrics.\n",
        "    In the form (train_loss, train_accuracy). For example:\n",
        "\n",
        "    (0.1112, 0.8743)\n",
        "  \"\"\"\n",
        "  # Put model in train mode\n",
        "  model.train()\n",
        "\n",
        "  # Setup train loss and train accuracy values\n",
        "  train_loss = 0\n",
        "\n",
        "  # Loop through data loader data batches\n",
        "  for batch, (X, y) in enumerate(dataloader):\n",
        "      # Send data to target device\n",
        "      X, y = X.to(device), y.to(device)\n",
        "\n",
        "      # 1. Forward pass\n",
        "      y_pred = model(X).squeeze(dim=1)\n",
        "\n",
        "      # 2. Calculate  and accumulate loss\n",
        "      loss = loss_fn(y_pred, y)\n",
        "      train_loss += loss.item()\n",
        "\n",
        "      # 3. Optimizer zero grad\n",
        "      optimizer.zero_grad()\n",
        "\n",
        "      # 4. Loss backward\n",
        "      loss.backward()\n",
        "\n",
        "      # 5. Optimizer step\n",
        "      optimizer.step()\n",
        "\n",
        "  # Adjust metrics to get average loss and accuracy per batch\n",
        "  train_loss = train_loss / len(dataloader)\n",
        "\n",
        "  return train_loss\n",
        "\n",
        "def test_step(model: torch.nn.Module,\n",
        "              dataloader: torch.utils.data.DataLoader,\n",
        "              loss_fn: torch.nn.Module,\n",
        "              device: torch.device) -> Tuple[float, float]:\n",
        "  \"\"\"Tests a PyTorch model for a single epoch.\n",
        "\n",
        "  Turns a target PyTorch model to \"eval\" mode and then performs\n",
        "  a forward pass on a testing dataset.\n",
        "\n",
        "  Args:\n",
        "    model: A PyTorch model to be tested.\n",
        "    dataloader: A DataLoader instance for the model to be tested on.\n",
        "    loss_fn: A PyTorch loss function to calculate loss on the test data.\n",
        "    device: A target device to compute on (e.g. \"cuda\" or \"cpu\").\n",
        "\n",
        "  Returns:\n",
        "    A tuple of testing loss and testing accuracy metrics.\n",
        "    In the form (test_loss, test_accuracy). For example:\n",
        "\n",
        "    (0.0223, 0.8985)\n",
        "  \"\"\"\n",
        "  # Put model in eval mode\n",
        "  model.eval()\n",
        "\n",
        "  # Setup test loss and test accuracy values\n",
        "  test_loss = 0\n",
        "\n",
        "  # Turn on inference context manager\n",
        "  with torch.inference_mode():\n",
        "      # Loop through DataLoader batches\n",
        "      for batch, (X, y) in enumerate(dataloader):\n",
        "          # Send data to target device\n",
        "          X, y = X.to(device), y.to(device)\n",
        "\n",
        "          # 1. Forward pass\n",
        "          test_pred_logits = model(X).squeeze(dim=1)\n",
        "\n",
        "          # 2. Calculate and accumulate loss\n",
        "          loss = loss_fn(test_pred_logits, y)\n",
        "          test_loss += loss.item()\n",
        "\n",
        "  # Adjust metrics to get average loss and accuracy per batch\n",
        "  test_loss = test_loss / len(dataloader)\n",
        "\n",
        "  return test_loss\n",
        "\n",
        "def train(model: torch.nn.Module,\n",
        "          train_dataloader: torch.utils.data.DataLoader,\n",
        "          test_dataloader: torch.utils.data.DataLoader,\n",
        "          optimizer: torch.optim.Optimizer,\n",
        "          loss_fn: torch.nn.Module,\n",
        "          epochs: int,\n",
        "          device: torch.device) -> Dict[str, List[float]]:\n",
        "  \"\"\"Trains and tests a PyTorch model.\n",
        "\n",
        "  Passes a target PyTorch models through train_step() and test_step()\n",
        "  functions for a number of epochs, training and testing the model\n",
        "  in the same epoch loop.\n",
        "\n",
        "  Calculates, prints and stores evaluation metrics throughout.\n",
        "\n",
        "  Args:\n",
        "    model: A PyTorch model to be trained and tested.\n",
        "    train_dataloader: A DataLoader instance for the model to be trained on.\n",
        "    test_dataloader: A DataLoader instance for the model to be tested on.\n",
        "    optimizer: A PyTorch optimizer to help minimize the loss function.\n",
        "    loss_fn: A PyTorch loss function to calculate loss on both datasets.\n",
        "    epochs: An integer indicating how many epochs to train for.\n",
        "    device: A target device to compute on (e.g. \"cuda\" or \"cpu\").\n",
        "\n",
        "  Returns:\n",
        "    A dictionary of training and testing loss as well as training and\n",
        "    testing accuracy metrics. Each metric has a value in a list for\n",
        "    each epoch.\n",
        "    In the form: {train_loss: [...],\n",
        "                  train_acc: [...],\n",
        "                  test_loss: [...],\n",
        "                  test_acc: [...]}\n",
        "    For example if training for epochs=2:\n",
        "                 {train_loss: [2.0616, 1.0537],\n",
        "                  train_acc: [0.3945, 0.3945],\n",
        "                  test_loss: [1.2641, 1.5706],\n",
        "                  test_acc: [0.3400, 0.2973]}\n",
        "  \"\"\"\n",
        "  # Create empty results dictionary\n",
        "  results = {\"train_loss\": [],\n",
        "      \"test_loss\": []\n",
        "  }\n",
        "\n",
        "  # Loop through training and testing steps for a number of epochs\n",
        "  for epoch in tqdm(range(epochs)):\n",
        "      train_loss = train_step(model=model,\n",
        "                                          dataloader=train_dataloader,\n",
        "                                          loss_fn=loss_fn,\n",
        "                                          optimizer=optimizer,\n",
        "                                          device=device)\n",
        "      test_loss = test_step(model=model,\n",
        "          dataloader=test_dataloader,\n",
        "          loss_fn=loss_fn,\n",
        "          device=device)\n",
        "\n",
        "      # Print out what's happening\n",
        "      if epoch % 2 == 0:\n",
        "        print(\n",
        "            f\"Epoch: {epoch+1} | \"\n",
        "            f\"train_loss: {train_loss:.4f} | \"\n",
        "            f\"test_loss: {test_loss:.4f} | \"\n",
        "        )\n",
        "\n",
        "      # Update results dictionary\n",
        "      results[\"train_loss\"].append(train_loss)\n",
        "      results[\"test_loss\"].append(test_loss)\n",
        "\n",
        "  # Return the filled results at the end of the epochs\n",
        "  return results"
      ],
      "metadata": {
        "id": "ukG4JoHKBsEt"
      },
      "execution_count": 27,
      "outputs": []
    },
    {
      "cell_type": "markdown",
      "source": [
        "#### Train Model"
      ],
      "metadata": {
        "id": "M5hGT6i4mHaS"
      }
    },
    {
      "cell_type": "code",
      "source": [
        "def train_model_on_feature_data(model,\n",
        "                                loss_fn,\n",
        "                                optimizer,\n",
        "                                epochs,\n",
        "                                stock_data_transformer: StockDataTransformer):\n",
        "  train_dataloader, test_dataloader = stock_data_transformer.get_dataloaders()\n",
        "  device = stock_data_transformer.device\n",
        "  results = train(model=model,\n",
        "                  train_dataloader=train_dataloader,\n",
        "                  test_dataloader=test_dataloader,\n",
        "                  loss_fn=loss_fn,\n",
        "                  optimizer=optimizer,\n",
        "                  epochs=epochs,\n",
        "                  device=device)\n",
        "  return results"
      ],
      "metadata": {
        "id": "i3_FDS45los3"
      },
      "execution_count": 28,
      "outputs": []
    },
    {
      "cell_type": "markdown",
      "source": [
        "#### Model Preds"
      ],
      "metadata": {
        "id": "JUme_IYhmv0u"
      }
    },
    {
      "cell_type": "code",
      "source": [
        "def plot_model_preds(model,\n",
        "                     stock_data_transformer: StockDataTransformer):\n",
        "  train_X, test_X = stock_data_transformer.train_X, stock_data_transformer.test_X\n",
        "  device = stock_data_transformer.device\n",
        "  stock_data_obj = stock_data_transformer.stock_data\n",
        "\n",
        "  train_preds, test_preds = get_model_preds(model, train_X, test_X, device)\n",
        "  train_preds, test_preds = stock_data_obj.get_scaled_data(train_preds, True), stock_data_obj.get_scaled_data(test_preds, True)\n",
        "\n",
        "  stock_data = stock_data_obj.get_original_stock_closes()\n",
        "  value_diff = len(stock_data) - (len(train_preds) + len(test_preds))\n",
        "  stock_data = stock_data[value_diff:]\n",
        "  cutoff_idx = len(train_preds)\n",
        "  plot_stock_predictions(stock_data[:cutoff_idx], stock_data[cutoff_idx:], train_preds, test_preds)"
      ],
      "metadata": {
        "id": "AyZhoi-lmucv"
      },
      "execution_count": 29,
      "outputs": []
    },
    {
      "cell_type": "markdown",
      "source": [
        "### Evaluating"
      ],
      "metadata": {
        "id": "yqbVFkgEFjxr"
      }
    },
    {
      "cell_type": "code",
      "source": [
        "# Get model predictions in numpy format suitable for plotting\n",
        "\n",
        "def get_model_preds(model, train_data, test_data, device=\"cpu\"):\n",
        "  with torch.inference_mode():\n",
        "    train_preds = model(torch.tensor(train_data, dtype=torch.float32).to(device)).squeeze(dim=1).cpu().detach().numpy()\n",
        "    test_preds = model(torch.tensor(test_data, dtype=torch.float32).to(device)).squeeze(dim=1).cpu().detach().numpy()\n",
        "\n",
        "    return train_preds, test_preds"
      ],
      "metadata": {
        "id": "wqi2SLy71GJl"
      },
      "execution_count": 30,
      "outputs": []
    },
    {
      "cell_type": "code",
      "source": [
        "# Create code to plot predictions\n",
        "import pandas as pd\n",
        "import matplotlib.pyplot as plt\n",
        "\n",
        "def plot_stock_predictions(train_data, test_data, train_preds, test_preds):\n",
        "  train_range = [i for i in range(len(train_data))]\n",
        "  test_range = [i for i in range(len(train_data), len(train_data) + len(test_data))]\n",
        "\n",
        "  plt.plot(train_range, train_data)\n",
        "  plt.plot(train_range, train_preds)\n",
        "  plt.plot(test_range, test_data)\n",
        "  plt.plot(test_range, test_preds)\n",
        "  plt.xlabel('Day')\n",
        "  plt.ylabel('Close')\n",
        "  plt.legend([\n",
        "      'Actual Training Values',\n",
        "      'Predicted Training Values',\n",
        "      'Actual Testing Values',\n",
        "      'Predicted Testing Values'\n",
        "  ])\n",
        "  plt.show()"
      ],
      "metadata": {
        "id": "mzrqsyhS0jS-"
      },
      "execution_count": 31,
      "outputs": []
    },
    {
      "cell_type": "markdown",
      "source": [
        "### Models"
      ],
      "metadata": {
        "id": "Mc590xiN0RNQ"
      }
    },
    {
      "cell_type": "code",
      "source": [
        "import torch\n",
        "from torch import nn\n",
        "\n",
        "# Setup a basic linear model\n",
        "class LinModel0(nn.Module):\n",
        "  def __init__(self, in_features, hidden_units, out_features):\n",
        "    super().__init__()\n",
        "    self.lin_layer = nn.Sequential(\n",
        "        nn.Linear(\n",
        "            in_features=in_features,\n",
        "            out_features=hidden_units\n",
        "        ),\n",
        "        nn.ReLU(),\n",
        "        nn.Linear(\n",
        "            in_features=hidden_units,\n",
        "            out_features=hidden_units\n",
        "        ),\n",
        "        nn.ReLU(),\n",
        "        nn.Linear(\n",
        "            in_features=hidden_units,\n",
        "            out_features=out_features\n",
        "        )\n",
        "    )\n",
        "\n",
        "  def forward(self, x):\n",
        "    return self.lin_layer(x)"
      ],
      "metadata": {
        "id": "beVxCf5oB9ka"
      },
      "execution_count": 32,
      "outputs": []
    },
    {
      "cell_type": "code",
      "source": [
        "import torch\n",
        "from torch import nn\n",
        "\n",
        "class LSTMModel(nn.Module):\n",
        "  def __init__(self, in_features, hidden_units, out_features, stacked_layer_count, device):\n",
        "    super().__init__()\n",
        "    self.hidden_units = hidden_units\n",
        "    self.stacked_layer_count = stacked_layer_count\n",
        "    self.lstm = nn.LSTM(input_size=in_features,\n",
        "                        hidden_size=hidden_units,\n",
        "                        num_layers=stacked_layer_count,\n",
        "                        batch_first=True)\n",
        "    self.fc = nn.Linear(in_features=hidden_units,\n",
        "                               out_features=out_features)\n",
        "    self.device = device\n",
        "\n",
        "  def forward(self, X):\n",
        "    batch_size = len(X)\n",
        "    # X = X.unsqueeze(dim=2)\n",
        "    h0 = torch.zeros(self.stacked_layer_count, batch_size, self.hidden_units).to(device)\n",
        "    c0 = torch.zeros(self.stacked_layer_count, batch_size, self.hidden_units).to(device)\n",
        "    out, _ = self.lstm(X, (h0, c0))\n",
        "    out = self.fc(out[:, -1, :])\n",
        "    return out"
      ],
      "metadata": {
        "id": "kfZFxgbmAlaI"
      },
      "execution_count": 33,
      "outputs": []
    },
    {
      "cell_type": "markdown",
      "source": [
        "## Model Eval Section"
      ],
      "metadata": {
        "id": "_VzGkGsr0azh"
      }
    },
    {
      "cell_type": "code",
      "source": [
        "# Reusable training code\n",
        "device = \"cuda\" if torch.cuda.is_available() else \"cpu\"\n",
        "print(device)\n",
        "\n",
        "loss_fn = nn.MSELoss()\n",
        "EPOCHS = 10\n",
        "\n",
        "LOOKBACK_INTERVAL = 7"
      ],
      "metadata": {
        "colab": {
          "base_uri": "https://localhost:8080/"
        },
        "id": "Pda34lI5pena",
        "outputId": "a572f306-d98a-4d8e-bfe8-9b6160ec84e2"
      },
      "execution_count": 34,
      "outputs": [
        {
          "output_type": "stream",
          "name": "stdout",
          "text": [
            "cuda\n"
          ]
        }
      ]
    },
    {
      "cell_type": "markdown",
      "source": [
        "# Model Eval V2"
      ],
      "metadata": {
        "id": "C9m2O68ToXH7"
      }
    },
    {
      "cell_type": "code",
      "source": [
        "# Get initial stock data\n",
        "GoogleStockData = StockData(ticker=\"GOOGL\",\n",
        "                            start_date=\"12/04/2009\",\n",
        "                            end_date=\"12/04/2022\",\n",
        "                            index_as_date=True,\n",
        "                            interval=\"1d\")"
      ],
      "metadata": {
        "id": "UKI7bvKdbRcr"
      },
      "execution_count": 35,
      "outputs": []
    },
    {
      "cell_type": "code",
      "source": [
        "# Get transformed stock data\n",
        "GoogleTransformedData = StockDataTransformer(stock_data=GoogleStockData,\n",
        "                                           feature_computators=[MovingAverageDataFeature(100),\n",
        "                                                                MovingAverageDataFeature(200),\n",
        "                                                                VolumeDataFeature()],\n",
        "                                           lookback_interval=7,\n",
        "                                           train_size_percentage=0.8,\n",
        "                                           batch_size=32,\n",
        "                                           device=device)"
      ],
      "metadata": {
        "colab": {
          "base_uri": "https://localhost:8080/"
        },
        "id": "5S1I715LojfA",
        "outputId": "a64b89cf-3503-4bf7-d44f-bc80e995e57e"
      },
      "execution_count": 36,
      "outputs": [
        {
          "output_type": "stream",
          "name": "stdout",
          "text": [
            "Enough data! In order to work properly, there needs to be 107 intervals removed from the beginning of the feature data! (MA)\n",
            "Returning 107\n",
            "Enough data! In order to work properly, there needs to be 207 intervals removed from the beginning of the feature data! (MA)\n",
            "Returning 207\n",
            "Enough data! In order to work properly, there needs to be 7 intervals removed from the beginning of the feature data! (CP)\n",
            "Test X Len: 613 | test y Len: 613\n"
          ]
        }
      ]
    },
    {
      "cell_type": "code",
      "source": [
        "test_LSTM_model = LSTMModel(in_features=3,\n",
        "                           hidden_units=4,\n",
        "                           out_features=1,\n",
        "                           stacked_layer_count=1,\n",
        "                           device=device).to(device)\n",
        "test_optimizer = torch.optim.SGD(params=test_LSTM_model.parameters(),\n",
        "                            lr=0.1)"
      ],
      "metadata": {
        "id": "_nzwqPXkolQW"
      },
      "execution_count": 39,
      "outputs": []
    },
    {
      "cell_type": "code",
      "source": [
        "res = train_model_on_feature_data(model=test_LSTM_model,\n",
        "                                  loss_fn=loss_fn,\n",
        "                                  optimizer=test_optimizer,\n",
        "                                  epochs=100,\n",
        "                                  stock_data_transformer=GoogleTransformedData)"
      ],
      "metadata": {
        "id": "symltofiq8JI"
      },
      "execution_count": null,
      "outputs": []
    },
    {
      "cell_type": "code",
      "source": [
        "plot_model_preds(model=test_LSTM_model,\n",
        "                 stock_data_transformer=GoogleTransformedData)"
      ],
      "metadata": {
        "colab": {
          "base_uri": "https://localhost:8080/",
          "height": 449
        },
        "id": "M0yBX3M7r1HD",
        "outputId": "e4637250-6bd6-46a3-f1c8-c1433172d264"
      },
      "execution_count": 41,
      "outputs": [
        {
          "output_type": "display_data",
          "data": {
            "text/plain": [
              "<Figure size 640x480 with 1 Axes>"
            ],
            "image/png": "[encoded data removed]"
          },
          "metadata": {}
        }
      ]
    },
    {
      "cell_type": "code",
      "source": [
        "copy_data_frame = GoogleStockData.stock_data.copy()"
      ],
      "metadata": {
        "id": "PKTsIjPludYI"
      },
      "execution_count": 42,
      "outputs": []
    },
    {
      "cell_type": "code",
      "source": [
        "feature = MovingAverageDataFeature(20)\n",
        "feature.compute_linear_feature(copy_data_frame)"
      ],
      "metadata": {
        "colab": {
          "base_uri": "https://localhost:8080/"
        },
        "id": "Ban4pvPGvhtg",
        "outputId": "8ee44d77-392b-49bb-99c4-8acb5b66934f"
      },
      "execution_count": 43,
      "outputs": [
        {
          "output_type": "execute_result",
          "data": {
            "text/plain": [
              "20"
            ]
          },
          "metadata": {},
          "execution_count": 43
        }
      ]
    }
  ]
}